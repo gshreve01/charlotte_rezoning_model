{
 "cells": [
  {
   "cell_type": "code",
   "execution_count": 1,
   "metadata": {},
   "outputs": [],
   "source": [
    "import warnings\n",
    "warnings.simplefilter('ignore')\n",
    "\n",
    "# %matplotlib inline\n",
    "import matplotlib.pyplot as plt\n",
    "import numpy as np\n",
    "import pandas as pd"
   ]
  },
  {
   "cell_type": "code",
   "execution_count": 2,
   "metadata": {},
   "outputs": [],
   "source": [
    "clean_df = pd.read_csv('Resources/Final_Clean.csv')"
   ]
  },
  {
   "cell_type": "code",
   "execution_count": 3,
   "metadata": {},
   "outputs": [],
   "source": [
    "clean_df.head()\n",
    "clean_df = clean_df.drop(columns=['Unnamed: 0','Unnamed: 0.1'])"
   ]
  },
  {
   "cell_type": "code",
   "execution_count": 10,
   "metadata": {},
   "outputs": [
    {
     "name": "stdout",
     "output_type": "stream",
     "text": [
      "['NPA', 'year', 'Petitioner', 'FromZone', 'ToZone', 'Type', 'SPA', 'INNOV', 'Acres', 'Water', 'Sewer', 'CityLimit', 'CCW', 'ServiceArea', 'LuseStaff', 'UrbanDesign', 'RezoneStaff', 'Received', 'Approved', 'Decision', 'births_to_adolescents', 'grocery_proximate_units', 'prenatal_care', 'grocery_proximity', 'low_birthweight', 'public_health_insurance', 'age_of_death', 'impervious_surface', 'water_consumption', 'neighborhood_school_attendance', 'highschool_graduation_rate', 'proficiency_elementary_school', 'proficiency_middle_school', 'proficiency_high_school', 'student_absenteeism', 'voters_participating', 'neighborhood_organizations', 'voter_participation', 'vacant_land', 'population_density', 'population', 'transit_ridership', 'street_connectivity', 'bicycle_friendliness']\n"
     ]
    },
    {
     "data": {
      "text/plain": [
       "44"
      ]
     },
     "execution_count": 10,
     "metadata": {},
     "output_type": "execute_result"
    }
   ],
   "source": [
    "column_names = list(clean_df.columns.values)\n",
    "print(column_names)\n",
    "len(column_names)"
   ]
  },
  {
   "cell_type": "code",
   "execution_count": 9,
   "metadata": {},
   "outputs": [
    {
     "name": "stdout",
     "output_type": "stream",
     "text": [
      "[dtype('int64'), dtype('O'), dtype('O'), dtype('O'), dtype('O'), dtype('O'), dtype('O'), dtype('O'), dtype('float64'), dtype('O'), dtype('O'), dtype('O'), dtype('O'), dtype('O'), dtype('O'), dtype('O'), dtype('O'), dtype('O'), dtype('O'), dtype('O'), dtype('float64'), dtype('float64'), dtype('float64'), dtype('float64'), dtype('float64'), dtype('float64'), dtype('float64'), dtype('float64'), dtype('float64'), dtype('float64'), dtype('float64'), dtype('float64'), dtype('float64'), dtype('float64'), dtype('float64'), dtype('float64'), dtype('float64'), dtype('float64'), dtype('float64'), dtype('float64'), dtype('float64'), dtype('float64'), dtype('float64'), dtype('float64')]\n"
     ]
    },
    {
     "data": {
      "text/plain": [
       "44"
      ]
     },
     "execution_count": 9,
     "metadata": {},
     "output_type": "execute_result"
    }
   ],
   "source": [
    "types = list(clean_df.dtypes.values)\n",
    "print(types)\n",
    "len(types)"
   ]
  },
  {
   "cell_type": "code",
   "execution_count": 15,
   "metadata": {},
   "outputs": [
    {
     "name": "stdout",
     "output_type": "stream",
     "text": [
      "{'column_name': ['NPA', 'year', 'Petitioner', 'FromZone', 'ToZone', 'Type', 'SPA', 'INNOV', 'Acres', 'Water', 'Sewer', 'CityLimit', 'CCW', 'ServiceArea', 'LuseStaff', 'UrbanDesign', 'RezoneStaff', 'Received', 'Approved', 'Decision', 'births_to_adolescents', 'grocery_proximate_units', 'prenatal_care', 'grocery_proximity', 'low_birthweight', 'public_health_insurance', 'age_of_death', 'impervious_surface', 'water_consumption', 'neighborhood_school_attendance', 'highschool_graduation_rate', 'proficiency_elementary_school', 'proficiency_middle_school', 'proficiency_high_school', 'student_absenteeism', 'voters_participating', 'neighborhood_organizations', 'voter_participation', 'vacant_land', 'population_density', 'population', 'transit_ridership', 'street_connectivity', 'bicycle_friendliness'], 'data_type': [dtype('int64'), dtype('O'), dtype('O'), dtype('O'), dtype('O'), dtype('O'), dtype('O'), dtype('O'), dtype('float64'), dtype('O'), dtype('O'), dtype('O'), dtype('O'), dtype('O'), dtype('O'), dtype('O'), dtype('O'), dtype('O'), dtype('O'), dtype('O'), dtype('float64'), dtype('float64'), dtype('float64'), dtype('float64'), dtype('float64'), dtype('float64'), dtype('float64'), dtype('float64'), dtype('float64'), dtype('float64'), dtype('float64'), dtype('float64'), dtype('float64'), dtype('float64'), dtype('float64'), dtype('float64'), dtype('float64'), dtype('float64'), dtype('float64'), dtype('float64'), dtype('float64'), dtype('float64'), dtype('float64'), dtype('float64')]}\n"
     ]
    }
   ],
   "source": [
    "column_dict = {'column_name':column_names,'data_type':types}\n",
    "print(column_dict)"
   ]
  },
  {
   "cell_type": "code",
   "execution_count": 11,
   "metadata": {},
   "outputs": [
    {
     "name": "stdout",
     "output_type": "stream",
     "text": [
      "[False, False, False, False, False, False, False, False, True, False, False, False, False, False, False, False, False, False, False, False, True, True, True, True, True, True, True, True, True, True, True, True, True, True, True, True, True, True, True, True, True, True, True, True]\n"
     ]
    },
    {
     "data": {
      "text/plain": [
       "44"
      ]
     },
     "execution_count": 11,
     "metadata": {},
     "output_type": "execute_result"
    }
   ],
   "source": [
    "numeric_columns = ['Acres', 'births_to_adolescents', 'grocery_proximate_units', 'prenatal_care', 'grocery_proximity',\n",
    "                  'low_birthweight', 'public_health_insurance', 'age_of_death', 'impervious_surface',\n",
    "                  'water_consumption', 'neighborhood_school_attendance', 'highschool_graduation_rate', \n",
    "                   'proficiency_elementary_school', 'proficiency_middle_school', 'proficiency_high_school',\n",
    "                   'student_absenteeism', 'voters_participating', 'neighborhood_organizations',\n",
    "                   'voter_participation', 'vacant_land', 'population_density', 'population', 'transit_ridership',\n",
    "                   'street_connectivity', 'bicycle_friendliness'\n",
    "]\n",
    "\n",
    "#catagorical_columns =[]\n",
    "s = pd.Series(column_names)\n",
    "statements = list(s.isin(numeric_columns))\n",
    "\n",
    "print(statements)\n",
    "len(statements)"
   ]
  },
  {
   "cell_type": "code",
   "execution_count": 12,
   "metadata": {},
   "outputs": [
    {
     "data": {
      "text/html": [
       "<div>\n",
       "<style scoped>\n",
       "    .dataframe tbody tr th:only-of-type {\n",
       "        vertical-align: middle;\n",
       "    }\n",
       "\n",
       "    .dataframe tbody tr th {\n",
       "        vertical-align: top;\n",
       "    }\n",
       "\n",
       "    .dataframe thead th {\n",
       "        text-align: right;\n",
       "    }\n",
       "</style>\n",
       "<table border=\"1\" class=\"dataframe\">\n",
       "  <thead>\n",
       "    <tr style=\"text-align: right;\">\n",
       "      <th></th>\n",
       "      <th>column_name</th>\n",
       "      <th>data_type</th>\n",
       "      <th>number_type</th>\n",
       "    </tr>\n",
       "  </thead>\n",
       "  <tbody>\n",
       "    <tr>\n",
       "      <th>0</th>\n",
       "      <td>NPA</td>\n",
       "      <td>int64</td>\n",
       "      <td>False</td>\n",
       "    </tr>\n",
       "    <tr>\n",
       "      <th>1</th>\n",
       "      <td>year</td>\n",
       "      <td>object</td>\n",
       "      <td>False</td>\n",
       "    </tr>\n",
       "    <tr>\n",
       "      <th>2</th>\n",
       "      <td>Petitioner</td>\n",
       "      <td>object</td>\n",
       "      <td>False</td>\n",
       "    </tr>\n",
       "    <tr>\n",
       "      <th>3</th>\n",
       "      <td>FromZone</td>\n",
       "      <td>object</td>\n",
       "      <td>False</td>\n",
       "    </tr>\n",
       "    <tr>\n",
       "      <th>4</th>\n",
       "      <td>ToZone</td>\n",
       "      <td>object</td>\n",
       "      <td>False</td>\n",
       "    </tr>\n",
       "    <tr>\n",
       "      <th>5</th>\n",
       "      <td>Type</td>\n",
       "      <td>object</td>\n",
       "      <td>False</td>\n",
       "    </tr>\n",
       "    <tr>\n",
       "      <th>6</th>\n",
       "      <td>SPA</td>\n",
       "      <td>object</td>\n",
       "      <td>False</td>\n",
       "    </tr>\n",
       "    <tr>\n",
       "      <th>7</th>\n",
       "      <td>INNOV</td>\n",
       "      <td>object</td>\n",
       "      <td>False</td>\n",
       "    </tr>\n",
       "    <tr>\n",
       "      <th>8</th>\n",
       "      <td>Acres</td>\n",
       "      <td>float64</td>\n",
       "      <td>True</td>\n",
       "    </tr>\n",
       "    <tr>\n",
       "      <th>9</th>\n",
       "      <td>Water</td>\n",
       "      <td>object</td>\n",
       "      <td>False</td>\n",
       "    </tr>\n",
       "    <tr>\n",
       "      <th>10</th>\n",
       "      <td>Sewer</td>\n",
       "      <td>object</td>\n",
       "      <td>False</td>\n",
       "    </tr>\n",
       "    <tr>\n",
       "      <th>11</th>\n",
       "      <td>CityLimit</td>\n",
       "      <td>object</td>\n",
       "      <td>False</td>\n",
       "    </tr>\n",
       "    <tr>\n",
       "      <th>12</th>\n",
       "      <td>CCW</td>\n",
       "      <td>object</td>\n",
       "      <td>False</td>\n",
       "    </tr>\n",
       "    <tr>\n",
       "      <th>13</th>\n",
       "      <td>ServiceArea</td>\n",
       "      <td>object</td>\n",
       "      <td>False</td>\n",
       "    </tr>\n",
       "    <tr>\n",
       "      <th>14</th>\n",
       "      <td>LuseStaff</td>\n",
       "      <td>object</td>\n",
       "      <td>False</td>\n",
       "    </tr>\n",
       "    <tr>\n",
       "      <th>15</th>\n",
       "      <td>UrbanDesign</td>\n",
       "      <td>object</td>\n",
       "      <td>False</td>\n",
       "    </tr>\n",
       "    <tr>\n",
       "      <th>16</th>\n",
       "      <td>RezoneStaff</td>\n",
       "      <td>object</td>\n",
       "      <td>False</td>\n",
       "    </tr>\n",
       "    <tr>\n",
       "      <th>17</th>\n",
       "      <td>Received</td>\n",
       "      <td>object</td>\n",
       "      <td>False</td>\n",
       "    </tr>\n",
       "    <tr>\n",
       "      <th>18</th>\n",
       "      <td>Approved</td>\n",
       "      <td>object</td>\n",
       "      <td>False</td>\n",
       "    </tr>\n",
       "    <tr>\n",
       "      <th>19</th>\n",
       "      <td>Decision</td>\n",
       "      <td>object</td>\n",
       "      <td>False</td>\n",
       "    </tr>\n",
       "    <tr>\n",
       "      <th>20</th>\n",
       "      <td>births_to_adolescents</td>\n",
       "      <td>float64</td>\n",
       "      <td>True</td>\n",
       "    </tr>\n",
       "    <tr>\n",
       "      <th>21</th>\n",
       "      <td>grocery_proximate_units</td>\n",
       "      <td>float64</td>\n",
       "      <td>True</td>\n",
       "    </tr>\n",
       "    <tr>\n",
       "      <th>22</th>\n",
       "      <td>prenatal_care</td>\n",
       "      <td>float64</td>\n",
       "      <td>True</td>\n",
       "    </tr>\n",
       "    <tr>\n",
       "      <th>23</th>\n",
       "      <td>grocery_proximity</td>\n",
       "      <td>float64</td>\n",
       "      <td>True</td>\n",
       "    </tr>\n",
       "    <tr>\n",
       "      <th>24</th>\n",
       "      <td>low_birthweight</td>\n",
       "      <td>float64</td>\n",
       "      <td>True</td>\n",
       "    </tr>\n",
       "    <tr>\n",
       "      <th>25</th>\n",
       "      <td>public_health_insurance</td>\n",
       "      <td>float64</td>\n",
       "      <td>True</td>\n",
       "    </tr>\n",
       "    <tr>\n",
       "      <th>26</th>\n",
       "      <td>age_of_death</td>\n",
       "      <td>float64</td>\n",
       "      <td>True</td>\n",
       "    </tr>\n",
       "    <tr>\n",
       "      <th>27</th>\n",
       "      <td>impervious_surface</td>\n",
       "      <td>float64</td>\n",
       "      <td>True</td>\n",
       "    </tr>\n",
       "    <tr>\n",
       "      <th>28</th>\n",
       "      <td>water_consumption</td>\n",
       "      <td>float64</td>\n",
       "      <td>True</td>\n",
       "    </tr>\n",
       "    <tr>\n",
       "      <th>29</th>\n",
       "      <td>neighborhood_school_attendance</td>\n",
       "      <td>float64</td>\n",
       "      <td>True</td>\n",
       "    </tr>\n",
       "    <tr>\n",
       "      <th>30</th>\n",
       "      <td>highschool_graduation_rate</td>\n",
       "      <td>float64</td>\n",
       "      <td>True</td>\n",
       "    </tr>\n",
       "    <tr>\n",
       "      <th>31</th>\n",
       "      <td>proficiency_elementary_school</td>\n",
       "      <td>float64</td>\n",
       "      <td>True</td>\n",
       "    </tr>\n",
       "    <tr>\n",
       "      <th>32</th>\n",
       "      <td>proficiency_middle_school</td>\n",
       "      <td>float64</td>\n",
       "      <td>True</td>\n",
       "    </tr>\n",
       "    <tr>\n",
       "      <th>33</th>\n",
       "      <td>proficiency_high_school</td>\n",
       "      <td>float64</td>\n",
       "      <td>True</td>\n",
       "    </tr>\n",
       "    <tr>\n",
       "      <th>34</th>\n",
       "      <td>student_absenteeism</td>\n",
       "      <td>float64</td>\n",
       "      <td>True</td>\n",
       "    </tr>\n",
       "    <tr>\n",
       "      <th>35</th>\n",
       "      <td>voters_participating</td>\n",
       "      <td>float64</td>\n",
       "      <td>True</td>\n",
       "    </tr>\n",
       "    <tr>\n",
       "      <th>36</th>\n",
       "      <td>neighborhood_organizations</td>\n",
       "      <td>float64</td>\n",
       "      <td>True</td>\n",
       "    </tr>\n",
       "    <tr>\n",
       "      <th>37</th>\n",
       "      <td>voter_participation</td>\n",
       "      <td>float64</td>\n",
       "      <td>True</td>\n",
       "    </tr>\n",
       "    <tr>\n",
       "      <th>38</th>\n",
       "      <td>vacant_land</td>\n",
       "      <td>float64</td>\n",
       "      <td>True</td>\n",
       "    </tr>\n",
       "    <tr>\n",
       "      <th>39</th>\n",
       "      <td>population_density</td>\n",
       "      <td>float64</td>\n",
       "      <td>True</td>\n",
       "    </tr>\n",
       "  </tbody>\n",
       "</table>\n",
       "</div>"
      ],
      "text/plain": [
       "                       column_name data_type  number_type\n",
       "0                              NPA     int64        False\n",
       "1                             year    object        False\n",
       "2                       Petitioner    object        False\n",
       "3                         FromZone    object        False\n",
       "4                           ToZone    object        False\n",
       "5                             Type    object        False\n",
       "6                              SPA    object        False\n",
       "7                            INNOV    object        False\n",
       "8                            Acres   float64         True\n",
       "9                            Water    object        False\n",
       "10                           Sewer    object        False\n",
       "11                       CityLimit    object        False\n",
       "12                             CCW    object        False\n",
       "13                     ServiceArea    object        False\n",
       "14                       LuseStaff    object        False\n",
       "15                     UrbanDesign    object        False\n",
       "16                     RezoneStaff    object        False\n",
       "17                        Received    object        False\n",
       "18                        Approved    object        False\n",
       "19                        Decision    object        False\n",
       "20           births_to_adolescents   float64         True\n",
       "21         grocery_proximate_units   float64         True\n",
       "22                   prenatal_care   float64         True\n",
       "23               grocery_proximity   float64         True\n",
       "24                 low_birthweight   float64         True\n",
       "25         public_health_insurance   float64         True\n",
       "26                    age_of_death   float64         True\n",
       "27              impervious_surface   float64         True\n",
       "28               water_consumption   float64         True\n",
       "29  neighborhood_school_attendance   float64         True\n",
       "30      highschool_graduation_rate   float64         True\n",
       "31   proficiency_elementary_school   float64         True\n",
       "32       proficiency_middle_school   float64         True\n",
       "33         proficiency_high_school   float64         True\n",
       "34             student_absenteeism   float64         True\n",
       "35            voters_participating   float64         True\n",
       "36      neighborhood_organizations   float64         True\n",
       "37             voter_participation   float64         True\n",
       "38                     vacant_land   float64         True\n",
       "39              population_density   float64         True"
      ]
     },
     "execution_count": 12,
     "metadata": {},
     "output_type": "execute_result"
    }
   ],
   "source": [
    "column_dict = {'column_name':column_names,'data_type':types,'number_type':statements}\n",
    "#print(column_dict)\n",
    "cm_df = pd.DataFrame.from_dict(column_dict)\n",
    "cm_df.head(40)    "
   ]
  },
  {
   "cell_type": "code",
   "execution_count": 14,
   "metadata": {},
   "outputs": [
    {
     "name": "stdout",
     "output_type": "stream",
     "text": [
      "['catagorical', 'catagorical', 'catagorical', 'catagorical', 'catagorical', 'catagorical', 'catagorical', 'catagorical', 'numeric', 'catagorical', 'catagorical', 'catagorical', 'catagorical', 'catagorical', 'catagorical', 'catagorical', 'catagorical', 'catagorical', 'catagorical', 'catagorical', 'numeric', 'numeric', 'numeric', 'numeric', 'numeric', 'numeric', 'numeric', 'numeric', 'numeric', 'numeric', 'numeric', 'numeric', 'numeric', 'numeric', 'numeric', 'numeric', 'numeric', 'numeric', 'numeric', 'numeric', 'numeric', 'numeric', 'numeric', 'numeric']\n"
     ]
    },
    {
     "data": {
      "text/plain": [
       "44"
      ]
     },
     "execution_count": 14,
     "metadata": {},
     "output_type": "execute_result"
    }
   ],
   "source": [
    "category = []\n",
    "for x in cm_df['number_type']:\n",
    "    if x is False:\n",
    "        {category.append('catagorical')}\n",
    "    else:\n",
    "        {category.append('numeric')}\n",
    "\n",
    "print(category)\n",
    "len(category)"
   ]
  },
  {
   "cell_type": "code",
   "execution_count": 15,
   "metadata": {},
   "outputs": [],
   "source": [
    "final_dict = {'column_name':column_names,'data_type':types,'category_type':category}"
   ]
  },
  {
   "cell_type": "code",
   "execution_count": 16,
   "metadata": {},
   "outputs": [],
   "source": [
    "cat_df =pd.DataFrame(final_dict, columns=['column_name','data_type','category_type'])\n",
    "\n"
   ]
  },
  {
   "cell_type": "code",
   "execution_count": 17,
   "metadata": {},
   "outputs": [
    {
     "data": {
      "text/html": [
       "<div>\n",
       "<style scoped>\n",
       "    .dataframe tbody tr th:only-of-type {\n",
       "        vertical-align: middle;\n",
       "    }\n",
       "\n",
       "    .dataframe tbody tr th {\n",
       "        vertical-align: top;\n",
       "    }\n",
       "\n",
       "    .dataframe thead th {\n",
       "        text-align: right;\n",
       "    }\n",
       "</style>\n",
       "<table border=\"1\" class=\"dataframe\">\n",
       "  <thead>\n",
       "    <tr style=\"text-align: right;\">\n",
       "      <th></th>\n",
       "      <th>column_name</th>\n",
       "      <th>data_type</th>\n",
       "      <th>category_type</th>\n",
       "    </tr>\n",
       "  </thead>\n",
       "  <tbody>\n",
       "    <tr>\n",
       "      <th>0</th>\n",
       "      <td>NPA</td>\n",
       "      <td>int64</td>\n",
       "      <td>catagorical</td>\n",
       "    </tr>\n",
       "    <tr>\n",
       "      <th>1</th>\n",
       "      <td>year</td>\n",
       "      <td>object</td>\n",
       "      <td>catagorical</td>\n",
       "    </tr>\n",
       "    <tr>\n",
       "      <th>2</th>\n",
       "      <td>Petitioner</td>\n",
       "      <td>object</td>\n",
       "      <td>catagorical</td>\n",
       "    </tr>\n",
       "    <tr>\n",
       "      <th>3</th>\n",
       "      <td>FromZone</td>\n",
       "      <td>object</td>\n",
       "      <td>catagorical</td>\n",
       "    </tr>\n",
       "    <tr>\n",
       "      <th>4</th>\n",
       "      <td>ToZone</td>\n",
       "      <td>object</td>\n",
       "      <td>catagorical</td>\n",
       "    </tr>\n",
       "  </tbody>\n",
       "</table>\n",
       "</div>"
      ],
      "text/plain": [
       "  column_name data_type category_type\n",
       "0         NPA     int64   catagorical\n",
       "1        year    object   catagorical\n",
       "2  Petitioner    object   catagorical\n",
       "3    FromZone    object   catagorical\n",
       "4      ToZone    object   catagorical"
      ]
     },
     "execution_count": 17,
     "metadata": {},
     "output_type": "execute_result"
    }
   ],
   "source": [
    "cat_df.head()"
   ]
  },
  {
   "cell_type": "code",
   "execution_count": 48,
   "metadata": {},
   "outputs": [
    {
     "name": "stdout",
     "output_type": "stream",
     "text": [
      "['NPA', 'year', 'Petitioner', 'FromZone', 'ToZone', 'Type', 'SPA', 'INNOV', 'Water', 'Sewer', 'CityLimit', 'CCW', 'ServiceArea', 'LuseStaff', 'UrbanDesign', 'RezoneStaff', 'Received', 'Approved', 'Decision']\n"
     ]
    },
    {
     "data": {
      "text/html": [
       "<div>\n",
       "<style scoped>\n",
       "    .dataframe tbody tr th:only-of-type {\n",
       "        vertical-align: middle;\n",
       "    }\n",
       "\n",
       "    .dataframe tbody tr th {\n",
       "        vertical-align: top;\n",
       "    }\n",
       "\n",
       "    .dataframe thead th {\n",
       "        text-align: right;\n",
       "    }\n",
       "</style>\n",
       "<table border=\"1\" class=\"dataframe\">\n",
       "  <thead>\n",
       "    <tr style=\"text-align: right;\">\n",
       "      <th></th>\n",
       "      <th>NPA</th>\n",
       "      <th>year</th>\n",
       "      <th>Petitioner</th>\n",
       "      <th>FromZone</th>\n",
       "      <th>ToZone</th>\n",
       "      <th>Type</th>\n",
       "      <th>SPA</th>\n",
       "      <th>INNOV</th>\n",
       "      <th>Water</th>\n",
       "      <th>Sewer</th>\n",
       "      <th>CityLimit</th>\n",
       "      <th>CCW</th>\n",
       "      <th>ServiceArea</th>\n",
       "      <th>LuseStaff</th>\n",
       "      <th>UrbanDesign</th>\n",
       "      <th>RezoneStaff</th>\n",
       "      <th>Received</th>\n",
       "      <th>Approved</th>\n",
       "    </tr>\n",
       "  </thead>\n",
       "  <tbody>\n",
       "    <tr>\n",
       "      <th>0</th>\n",
       "      <td>2</td>\n",
       "      <td>2020</td>\n",
       "      <td>Alenky Signature Homes LLC</td>\n",
       "      <td>R-4</td>\n",
       "      <td>R-8</td>\n",
       "      <td>NC</td>\n",
       "      <td>no</td>\n",
       "      <td>NO</td>\n",
       "      <td>CMUD</td>\n",
       "      <td>CMUD</td>\n",
       "      <td>YES</td>\n",
       "      <td>Wedge</td>\n",
       "      <td>NaN</td>\n",
       "      <td>Travis Johnson</td>\n",
       "      <td>NaN</td>\n",
       "      <td>NaN</td>\n",
       "      <td>2020/02/18 15:12:46+00</td>\n",
       "      <td>2020/07/20 00:00:00+00</td>\n",
       "    </tr>\n",
       "    <tr>\n",
       "      <th>1</th>\n",
       "      <td>2</td>\n",
       "      <td>2019</td>\n",
       "      <td>Mark Heisig</td>\n",
       "      <td>O-2</td>\n",
       "      <td>R-4</td>\n",
       "      <td>NC</td>\n",
       "      <td>no</td>\n",
       "      <td>NO</td>\n",
       "      <td>CMUD</td>\n",
       "      <td>CMUD</td>\n",
       "      <td>YES</td>\n",
       "      <td>Wedge</td>\n",
       "      <td>Central</td>\n",
       "      <td>Scott Correll</td>\n",
       "      <td>Grant Meacci</td>\n",
       "      <td>Claire Lyte-Graham</td>\n",
       "      <td>2019/07/17 11:14:14+00</td>\n",
       "      <td>2019/12/16 00:00:00+00</td>\n",
       "    </tr>\n",
       "    <tr>\n",
       "      <th>2</th>\n",
       "      <td>2</td>\n",
       "      <td>2014</td>\n",
       "      <td>Eastway II Holdings, LLC</td>\n",
       "      <td>BD(CD)</td>\n",
       "      <td>BD(CD)</td>\n",
       "      <td>CD</td>\n",
       "      <td>SPA</td>\n",
       "      <td>NO</td>\n",
       "      <td>CMUD</td>\n",
       "      <td>CMUD</td>\n",
       "      <td>YES</td>\n",
       "      <td>Wedge</td>\n",
       "      <td>Central</td>\n",
       "      <td>Gonzalez_Alberto</td>\n",
       "      <td>Dixon_Bridget</td>\n",
       "      <td>Sanders_Sonja</td>\n",
       "      <td>2014/07/28 00:00:00+00</td>\n",
       "      <td>2014/10/20 00:00:00+00</td>\n",
       "    </tr>\n",
       "    <tr>\n",
       "      <th>3</th>\n",
       "      <td>2</td>\n",
       "      <td>2014</td>\n",
       "      <td>Eastway II Holdings, LLC</td>\n",
       "      <td>B-1SCD</td>\n",
       "      <td>BD(CD)</td>\n",
       "      <td>CD</td>\n",
       "      <td>no</td>\n",
       "      <td>NO</td>\n",
       "      <td>CMUD</td>\n",
       "      <td>CMUD</td>\n",
       "      <td>YES</td>\n",
       "      <td>Wedge</td>\n",
       "      <td>Central</td>\n",
       "      <td>Gonzalez_Alberto</td>\n",
       "      <td>Dixon_Bridget</td>\n",
       "      <td>Sanders_Sonja</td>\n",
       "      <td>2014/07/28 00:00:00+00</td>\n",
       "      <td>2014/10/20 00:00:00+00</td>\n",
       "    </tr>\n",
       "    <tr>\n",
       "      <th>4</th>\n",
       "      <td>2</td>\n",
       "      <td>2016</td>\n",
       "      <td>Dr. Michael Berglass, DDS</td>\n",
       "      <td>UR-C(CD)</td>\n",
       "      <td>UR-C(CD)</td>\n",
       "      <td>CD</td>\n",
       "      <td>SPA</td>\n",
       "      <td>NO</td>\n",
       "      <td>CMUD</td>\n",
       "      <td>CMUD</td>\n",
       "      <td>YES</td>\n",
       "      <td>Corridor</td>\n",
       "      <td>East</td>\n",
       "      <td>Amanda Vari</td>\n",
       "      <td>Monica Holmes</td>\n",
       "      <td>Sonja Sanders</td>\n",
       "      <td>2015/12/23 00:00:00+00</td>\n",
       "      <td>2016/06/20 00:00:00+00</td>\n",
       "    </tr>\n",
       "  </tbody>\n",
       "</table>\n",
       "</div>"
      ],
      "text/plain": [
       "   NPA  year                  Petitioner  FromZone    ToZone Type  SPA INNOV  \\\n",
       "0    2  2020  Alenky Signature Homes LLC       R-4       R-8   NC   no    NO   \n",
       "1    2  2019                 Mark Heisig       O-2       R-4   NC   no    NO   \n",
       "2    2  2014    Eastway II Holdings, LLC    BD(CD)    BD(CD)   CD  SPA    NO   \n",
       "3    2  2014    Eastway II Holdings, LLC    B-1SCD    BD(CD)   CD   no    NO   \n",
       "4    2  2016   Dr. Michael Berglass, DDS  UR-C(CD)  UR-C(CD)   CD  SPA    NO   \n",
       "\n",
       "  Water Sewer CityLimit       CCW ServiceArea         LuseStaff  \\\n",
       "0  CMUD  CMUD       YES     Wedge         NaN    Travis Johnson   \n",
       "1  CMUD  CMUD       YES     Wedge     Central     Scott Correll   \n",
       "2  CMUD  CMUD       YES     Wedge     Central  Gonzalez_Alberto   \n",
       "3  CMUD  CMUD       YES     Wedge     Central  Gonzalez_Alberto   \n",
       "4  CMUD  CMUD       YES  Corridor        East       Amanda Vari   \n",
       "\n",
       "     UrbanDesign         RezoneStaff                Received  \\\n",
       "0            NaN                 NaN  2020/02/18 15:12:46+00   \n",
       "1   Grant Meacci  Claire Lyte-Graham  2019/07/17 11:14:14+00   \n",
       "2  Dixon_Bridget       Sanders_Sonja  2014/07/28 00:00:00+00   \n",
       "3  Dixon_Bridget       Sanders_Sonja  2014/07/28 00:00:00+00   \n",
       "4  Monica Holmes       Sonja Sanders  2015/12/23 00:00:00+00   \n",
       "\n",
       "                 Approved  \n",
       "0  2020/07/20 00:00:00+00  \n",
       "1  2019/12/16 00:00:00+00  \n",
       "2  2014/10/20 00:00:00+00  \n",
       "3  2014/10/20 00:00:00+00  \n",
       "4  2016/06/20 00:00:00+00  "
      ]
     },
     "execution_count": 48,
     "metadata": {},
     "output_type": "execute_result"
    }
   ],
   "source": [
    "#Splittiing our data\n",
    "\n",
    "X_init = clean_df[catagorical_data]\n",
    "X = X_init.drop(columns= 'Decision')\n",
    "\n",
    "y = "
   ]
  },
  {
   "cell_type": "code",
   "execution_count": 49,
   "metadata": {},
   "outputs": [
    {
     "name": "stdout",
     "output_type": "stream",
     "text": [
      "['NPA', 'year', 'Petitioner', 'FromZone', 'ToZone', 'Type', 'SPA', 'INNOV', 'Water', 'Sewer', 'CityLimit', 'CCW', 'ServiceArea', 'LuseStaff', 'UrbanDesign', 'RezoneStaff', 'Received', 'Approved', 'Decision']\n"
     ]
    },
    {
     "ename": "ValueError",
     "evalue": "bad input shape (1757, 18)",
     "output_type": "error",
     "traceback": [
      "\u001b[0;31m---------------------------------------------------------------------------\u001b[0m",
      "\u001b[0;31mValueError\u001b[0m                                Traceback (most recent call last)",
      "\u001b[0;32m<ipython-input-49-6de2fdbd3456>\u001b[0m in \u001b[0;36m<module>\u001b[0;34m\u001b[0m\n\u001b[1;32m      8\u001b[0m \u001b[0mdata_init\u001b[0m \u001b[0;34m=\u001b[0m \u001b[0mclean_df\u001b[0m\u001b[0;34m[\u001b[0m\u001b[0mcatagorical_data\u001b[0m\u001b[0;34m]\u001b[0m\u001b[0;34m\u001b[0m\u001b[0;34m\u001b[0m\u001b[0m\n\u001b[1;32m      9\u001b[0m \u001b[0mcatagorical_data\u001b[0m \u001b[0;34m=\u001b[0m \u001b[0mdata_init\u001b[0m\u001b[0;34m.\u001b[0m\u001b[0mdrop\u001b[0m\u001b[0;34m(\u001b[0m\u001b[0mcolumns\u001b[0m\u001b[0;34m=\u001b[0m \u001b[0;34m'Decision'\u001b[0m\u001b[0;34m)\u001b[0m\u001b[0;34m\u001b[0m\u001b[0;34m\u001b[0m\u001b[0m\n\u001b[0;32m---> 10\u001b[0;31m \u001b[0mlabel_encoder\u001b[0m\u001b[0;34m.\u001b[0m\u001b[0mfit\u001b[0m\u001b[0;34m(\u001b[0m\u001b[0mcatagorical_data\u001b[0m\u001b[0;34m)\u001b[0m\u001b[0;34m\u001b[0m\u001b[0;34m\u001b[0m\u001b[0m\n\u001b[0m\u001b[1;32m     11\u001b[0m \u001b[0mlabel_encoder\u001b[0m\u001b[0;34m.\u001b[0m\u001b[0mclasses_\u001b[0m\u001b[0;34m\u001b[0m\u001b[0;34m\u001b[0m\u001b[0m\n",
      "\u001b[0;32m~/opt/anaconda3/lib/python3.7/site-packages/sklearn/preprocessing/_label.py\u001b[0m in \u001b[0;36mfit\u001b[0;34m(self, y)\u001b[0m\n\u001b[1;32m    233\u001b[0m         \u001b[0mself\u001b[0m \u001b[0;34m:\u001b[0m \u001b[0mreturns\u001b[0m \u001b[0man\u001b[0m \u001b[0minstance\u001b[0m \u001b[0mof\u001b[0m \u001b[0mself\u001b[0m\u001b[0;34m.\u001b[0m\u001b[0;34m\u001b[0m\u001b[0;34m\u001b[0m\u001b[0m\n\u001b[1;32m    234\u001b[0m         \"\"\"\n\u001b[0;32m--> 235\u001b[0;31m         \u001b[0my\u001b[0m \u001b[0;34m=\u001b[0m \u001b[0mcolumn_or_1d\u001b[0m\u001b[0;34m(\u001b[0m\u001b[0my\u001b[0m\u001b[0;34m,\u001b[0m \u001b[0mwarn\u001b[0m\u001b[0;34m=\u001b[0m\u001b[0;32mTrue\u001b[0m\u001b[0;34m)\u001b[0m\u001b[0;34m\u001b[0m\u001b[0;34m\u001b[0m\u001b[0m\n\u001b[0m\u001b[1;32m    236\u001b[0m         \u001b[0mself\u001b[0m\u001b[0;34m.\u001b[0m\u001b[0mclasses_\u001b[0m \u001b[0;34m=\u001b[0m \u001b[0m_encode\u001b[0m\u001b[0;34m(\u001b[0m\u001b[0my\u001b[0m\u001b[0;34m)\u001b[0m\u001b[0;34m\u001b[0m\u001b[0;34m\u001b[0m\u001b[0m\n\u001b[1;32m    237\u001b[0m         \u001b[0;32mreturn\u001b[0m \u001b[0mself\u001b[0m\u001b[0;34m\u001b[0m\u001b[0;34m\u001b[0m\u001b[0m\n",
      "\u001b[0;32m~/opt/anaconda3/lib/python3.7/site-packages/sklearn/utils/validation.py\u001b[0m in \u001b[0;36mcolumn_or_1d\u001b[0;34m(y, warn)\u001b[0m\n\u001b[1;32m    795\u001b[0m         \u001b[0;32mreturn\u001b[0m \u001b[0mnp\u001b[0m\u001b[0;34m.\u001b[0m\u001b[0mravel\u001b[0m\u001b[0;34m(\u001b[0m\u001b[0my\u001b[0m\u001b[0;34m)\u001b[0m\u001b[0;34m\u001b[0m\u001b[0;34m\u001b[0m\u001b[0m\n\u001b[1;32m    796\u001b[0m \u001b[0;34m\u001b[0m\u001b[0m\n\u001b[0;32m--> 797\u001b[0;31m     \u001b[0;32mraise\u001b[0m \u001b[0mValueError\u001b[0m\u001b[0;34m(\u001b[0m\u001b[0;34m\"bad input shape {0}\"\u001b[0m\u001b[0;34m.\u001b[0m\u001b[0mformat\u001b[0m\u001b[0;34m(\u001b[0m\u001b[0mshape\u001b[0m\u001b[0;34m)\u001b[0m\u001b[0;34m)\u001b[0m\u001b[0;34m\u001b[0m\u001b[0;34m\u001b[0m\u001b[0m\n\u001b[0m\u001b[1;32m    798\u001b[0m \u001b[0;34m\u001b[0m\u001b[0m\n\u001b[1;32m    799\u001b[0m \u001b[0;34m\u001b[0m\u001b[0m\n",
      "\u001b[0;31mValueError\u001b[0m: bad input shape (1757, 18)"
     ]
    }
   ],
   "source": [
    "caties = cat_df.loc[cat_df['category_type']== \"catagorical\",['column_name']]\n",
    "catagorical_data = caties['column_name'].tolist()\n",
    "print(catagorical_data)\n",
    "\n",
    "from sklearn.preprocessing import LabelEncoder\n",
    "label_encoder = LabelEncoder()\n",
    "\n",
    "data_init = clean_df[catagorical_data]\n",
    "catagorical_data = data_init.drop(columns= 'Decision')\n",
    "label_encoder.fit(catagorical_data)\n",
    "label_encoder.classes_"
   ]
  },
  {
   "cell_type": "code",
   "execution_count": 42,
   "metadata": {},
   "outputs": [
    {
     "name": "stdout",
     "output_type": "stream",
     "text": [
      "['NPA', 'year', 'Petitioner', 'FromZone', 'ToZone', 'Type', 'SPA', 'INNOV', 'Water', 'Sewer', 'CityLimit', 'CCW', 'ServiceArea', 'LuseStaff', 'UrbanDesign', 'RezoneStaff', 'Received', 'Approved', 'Decision']\n"
     ]
    }
   ],
   "source": []
  },
  {
   "cell_type": "code",
   "execution_count": 22,
   "metadata": {},
   "outputs": [],
   "source": [
    "#Label Encoding for columns that are catagorical\n",
    "from sklearn.preprocessing import LabelEncoder\n",
    "label_encoder = LabelEncoder()"
   ]
  },
  {
   "cell_type": "code",
   "execution_count": null,
   "metadata": {},
   "outputs": [],
   "source": []
  },
  {
   "cell_type": "code",
   "execution_count": null,
   "metadata": {},
   "outputs": [],
   "source": []
  },
  {
   "cell_type": "code",
   "execution_count": null,
   "metadata": {},
   "outputs": [],
   "source": []
  },
  {
   "cell_type": "code",
   "execution_count": null,
   "metadata": {},
   "outputs": [],
   "source": []
  },
  {
   "cell_type": "code",
   "execution_count": null,
   "metadata": {},
   "outputs": [],
   "source": []
  },
  {
   "cell_type": "code",
   "execution_count": 18,
   "metadata": {},
   "outputs": [],
   "source": [
    "# Set the seed value for the notebook so the results are reproducible\n",
    "from numpy.random import seed\n",
    "seed(1)"
   ]
  },
  {
   "cell_type": "code",
   "execution_count": 20,
   "metadata": {
    "slideshow": {
     "slide_type": "subslide"
    }
   },
   "outputs": [
    {
     "data": {
      "text/plain": [
       "'2.4.0'"
      ]
     },
     "execution_count": 20,
     "metadata": {},
     "output_type": "execute_result"
    }
   ],
   "source": [
    "# Dependencies\n",
    "import tensorflow\n",
    "tensorflow.keras.__version__"
   ]
  },
  {
   "cell_type": "markdown",
   "metadata": {},
   "source": []
  },
  {
   "cell_type": "code",
   "execution_count": 21,
   "metadata": {
    "slideshow": {
     "slide_type": "fragment"
    }
   },
   "outputs": [
    {
     "data": {
      "text/html": [
       "<div>\n",
       "<style scoped>\n",
       "    .dataframe tbody tr th:only-of-type {\n",
       "        vertical-align: middle;\n",
       "    }\n",
       "\n",
       "    .dataframe tbody tr th {\n",
       "        vertical-align: top;\n",
       "    }\n",
       "\n",
       "    .dataframe thead th {\n",
       "        text-align: right;\n",
       "    }\n",
       "</style>\n",
       "<table border=\"1\" class=\"dataframe\">\n",
       "  <thead>\n",
       "    <tr style=\"text-align: right;\">\n",
       "      <th></th>\n",
       "      <th>column_name</th>\n",
       "      <th>data_type</th>\n",
       "      <th>category_type</th>\n",
       "    </tr>\n",
       "  </thead>\n",
       "  <tbody>\n",
       "    <tr>\n",
       "      <th>0</th>\n",
       "      <td>NPA</td>\n",
       "      <td>int64</td>\n",
       "      <td>catagorical</td>\n",
       "    </tr>\n",
       "    <tr>\n",
       "      <th>1</th>\n",
       "      <td>year</td>\n",
       "      <td>object</td>\n",
       "      <td>catagorical</td>\n",
       "    </tr>\n",
       "    <tr>\n",
       "      <th>2</th>\n",
       "      <td>Petitioner</td>\n",
       "      <td>object</td>\n",
       "      <td>catagorical</td>\n",
       "    </tr>\n",
       "    <tr>\n",
       "      <th>3</th>\n",
       "      <td>FromZone</td>\n",
       "      <td>object</td>\n",
       "      <td>catagorical</td>\n",
       "    </tr>\n",
       "    <tr>\n",
       "      <th>4</th>\n",
       "      <td>ToZone</td>\n",
       "      <td>object</td>\n",
       "      <td>catagorical</td>\n",
       "    </tr>\n",
       "  </tbody>\n",
       "</table>\n",
       "</div>"
      ],
      "text/plain": [
       "  column_name data_type category_type\n",
       "0         NPA     int64   catagorical\n",
       "1        year    object   catagorical\n",
       "2  Petitioner    object   catagorical\n",
       "3    FromZone    object   catagorical\n",
       "4      ToZone    object   catagorical"
      ]
     },
     "execution_count": 21,
     "metadata": {},
     "output_type": "execute_result"
    }
   ],
   "source": [
    "requests_data = cat_df\n",
    "requests_data.head()"
   ]
  },
  {
   "cell_type": "markdown",
   "metadata": {
    "slideshow": {
     "slide_type": "subslide"
    }
   },
   "source": [
    "## Data Pre-Processing"
   ]
  },
  {
   "cell_type": "code",
   "execution_count": 5,
   "metadata": {
    "nbgrader": {
     "grade": false,
     "grade_id": "cell-86a9e3212f200d21",
     "locked": false,
     "schema_version": 1,
     "solution": true
    },
    "slideshow": {
     "slide_type": "subslide"
    }
   },
   "outputs": [
    {
     "name": "stdout",
     "output_type": "stream",
     "text": [
      "(3168, 20) (3168,)\n"
     ]
    }
   ],
   "source": [
    "X = requests_data.drop(\"Decision\", axis=1)\n",
    "y = requests_data[\"Decision\"]\n",
    "print(X.shape, y.shape)"
   ]
  },
  {
   "cell_type": "code",
   "execution_count": 6,
   "metadata": {
    "nbgrader": {
     "grade": false,
     "grade_id": "cell-711a82d9b32c83ff",
     "locked": false,
     "schema_version": 1,
     "solution": true
    },
    "slideshow": {
     "slide_type": "fragment"
    }
   },
   "outputs": [],
   "source": [
    "from sklearn.model_selection import train_test_split\n",
    "from sklearn.preprocessing import LabelEncoder, MinMaxScaler\n",
    "from tensorflow.keras.utils import to_categorical"
   ]
  },
  {
   "cell_type": "code",
   "execution_count": 7,
   "metadata": {
    "nbgrader": {
     "grade": false,
     "grade_id": "cell-711a82d9b32c83ff",
     "locked": false,
     "schema_version": 1,
     "solution": true
    },
    "slideshow": {
     "slide_type": "fragment"
    }
   },
   "outputs": [],
   "source": [
    "X_train, X_test, y_train, y_test = train_test_split(\n",
    "    X, y, random_state=1)"
   ]
  },
  {
   "cell_type": "code",
   "execution_count": 8,
   "metadata": {
    "nbgrader": {
     "grade": false,
     "grade_id": "cell-711a82d9b32c83ff",
     "locked": false,
     "schema_version": 1,
     "solution": true
    },
    "slideshow": {
     "slide_type": "fragment"
    }
   },
   "outputs": [],
   "source": [
    "X_scaler = MinMaxScaler().fit(X_train)\n",
    "X_train_scaled = X_scaler.transform(X_train)\n",
    "X_test_scaled = X_scaler.transform(X_test)"
   ]
  },
  {
   "cell_type": "code",
   "execution_count": 9,
   "metadata": {
    "nbgrader": {
     "grade": false,
     "grade_id": "cell-711a82d9b32c83ff",
     "locked": false,
     "schema_version": 1,
     "solution": true
    },
    "slideshow": {
     "slide_type": "fragment"
    }
   },
   "outputs": [],
   "source": [
    "# Step 1: Label-encode data set\n",
    "label_encoder = LabelEncoder()\n",
    "label_encoder.fit(y_train)\n",
    "encoded_y_train = label_encoder.transform(y_train)\n",
    "encoded_y_test = label_encoder.transform(y_test)"
   ]
  },
  {
   "cell_type": "code",
   "execution_count": 10,
   "metadata": {
    "nbgrader": {
     "grade": false,
     "grade_id": "cell-711a82d9b32c83ff",
     "locked": false,
     "schema_version": 1,
     "solution": true
    },
    "slideshow": {
     "slide_type": "fragment"
    }
   },
   "outputs": [],
   "source": [
    "# Step 2: Convert encoded labels to one-hot-encoding\n",
    "y_train_categorical = to_categorical(encoded_y_train)\n",
    "y_test_categorical = to_categorical(encoded_y_test)"
   ]
  },
  {
   "cell_type": "markdown",
   "metadata": {},
   "source": [
    "# Create a Deep Learning Model"
   ]
  },
  {
   "cell_type": "code",
   "execution_count": 11,
   "metadata": {},
   "outputs": [],
   "source": [
    "from tensorflow.keras.models import Sequential\n",
    "from tensorflow.keras.layers import Dense"
   ]
  },
  {
   "cell_type": "code",
   "execution_count": 12,
   "metadata": {},
   "outputs": [],
   "source": [
    "# Create model and add layers\n",
    "model = Sequential()\n",
    "model.add(Dense(units=100, activation='relu', input_dim=20))\n",
    "model.add(Dense(units=100, activation='relu'))\n",
    "model.add(Dense(units=2, activation='softmax'))"
   ]
  },
  {
   "cell_type": "code",
   "execution_count": 13,
   "metadata": {},
   "outputs": [],
   "source": [
    "# Compile and fit the model\n",
    "model.compile(optimizer='adam',\n",
    "              loss='categorical_crossentropy',\n",
    "              metrics=['accuracy'])"
   ]
  },
  {
   "cell_type": "code",
   "execution_count": 14,
   "metadata": {},
   "outputs": [
    {
     "name": "stdout",
     "output_type": "stream",
     "text": [
      "Model: \"sequential\"\n",
      "_________________________________________________________________\n",
      "Layer (type)                 Output Shape              Param #   \n",
      "=================================================================\n",
      "dense (Dense)                (None, 100)               2100      \n",
      "_________________________________________________________________\n",
      "dense_1 (Dense)              (None, 100)               10100     \n",
      "_________________________________________________________________\n",
      "dense_2 (Dense)              (None, 2)                 202       \n",
      "=================================================================\n",
      "Total params: 12,402\n",
      "Trainable params: 12,402\n",
      "Non-trainable params: 0\n",
      "_________________________________________________________________\n"
     ]
    }
   ],
   "source": [
    "model.summary()"
   ]
  },
  {
   "cell_type": "code",
   "execution_count": 15,
   "metadata": {},
   "outputs": [
    {
     "name": "stdout",
     "output_type": "stream",
     "text": [
      "Train on 2376 samples\n",
      "Epoch 1/60\n",
      "2376/2376 - 1s - loss: 0.4958 - accuracy: 0.8089\n",
      "Epoch 2/60\n",
      "2376/2376 - 0s - loss: 0.2202 - accuracy: 0.9276\n",
      "Epoch 3/60\n",
      "2376/2376 - 0s - loss: 0.1248 - accuracy: 0.9638\n",
      "Epoch 4/60\n",
      "2376/2376 - 0s - loss: 0.0991 - accuracy: 0.9680\n",
      "Epoch 5/60\n",
      "2376/2376 - 0s - loss: 0.0994 - accuracy: 0.9701\n",
      "Epoch 6/60\n",
      "2376/2376 - 0s - loss: 0.0989 - accuracy: 0.9693\n",
      "Epoch 7/60\n",
      "2376/2376 - 0s - loss: 0.0841 - accuracy: 0.9743\n",
      "Epoch 8/60\n",
      "2376/2376 - 0s - loss: 0.0817 - accuracy: 0.9760\n",
      "Epoch 9/60\n",
      "2376/2376 - 0s - loss: 0.0779 - accuracy: 0.9773\n",
      "Epoch 10/60\n",
      "2376/2376 - 0s - loss: 0.0756 - accuracy: 0.9773\n",
      "Epoch 11/60\n",
      "2376/2376 - 0s - loss: 0.0752 - accuracy: 0.9773\n",
      "Epoch 12/60\n",
      "2376/2376 - 0s - loss: 0.0783 - accuracy: 0.9764\n",
      "Epoch 13/60\n",
      "2376/2376 - 0s - loss: 0.0742 - accuracy: 0.9777\n",
      "Epoch 14/60\n",
      "2376/2376 - 0s - loss: 0.0745 - accuracy: 0.9760\n",
      "Epoch 15/60\n",
      "2376/2376 - 0s - loss: 0.0746 - accuracy: 0.9735\n",
      "Epoch 16/60\n",
      "2376/2376 - 0s - loss: 0.0733 - accuracy: 0.9760\n",
      "Epoch 17/60\n",
      "2376/2376 - 0s - loss: 0.0701 - accuracy: 0.9798\n",
      "Epoch 18/60\n",
      "2376/2376 - 0s - loss: 0.0728 - accuracy: 0.9764\n",
      "Epoch 19/60\n",
      "2376/2376 - 0s - loss: 0.0667 - accuracy: 0.9794\n",
      "Epoch 20/60\n",
      "2376/2376 - 0s - loss: 0.0692 - accuracy: 0.9769\n",
      "Epoch 21/60\n",
      "2376/2376 - 0s - loss: 0.0658 - accuracy: 0.9790\n",
      "Epoch 22/60\n",
      "2376/2376 - 0s - loss: 0.0657 - accuracy: 0.9777\n",
      "Epoch 23/60\n",
      "2376/2376 - 0s - loss: 0.0601 - accuracy: 0.9794\n",
      "Epoch 24/60\n",
      "2376/2376 - 0s - loss: 0.0642 - accuracy: 0.9777\n",
      "Epoch 25/60\n",
      "2376/2376 - 0s - loss: 0.0651 - accuracy: 0.9794\n",
      "Epoch 26/60\n",
      "2376/2376 - 0s - loss: 0.0607 - accuracy: 0.9802\n",
      "Epoch 27/60\n",
      "2376/2376 - 0s - loss: 0.0595 - accuracy: 0.9823\n",
      "Epoch 28/60\n",
      "2376/2376 - 0s - loss: 0.0577 - accuracy: 0.9819\n",
      "Epoch 29/60\n",
      "2376/2376 - 0s - loss: 0.0667 - accuracy: 0.9764\n",
      "Epoch 30/60\n",
      "2376/2376 - 0s - loss: 0.0607 - accuracy: 0.9790\n",
      "Epoch 31/60\n",
      "2376/2376 - 0s - loss: 0.0579 - accuracy: 0.9815\n",
      "Epoch 32/60\n",
      "2376/2376 - 0s - loss: 0.0563 - accuracy: 0.9815\n",
      "Epoch 33/60\n",
      "2376/2376 - 0s - loss: 0.0553 - accuracy: 0.9811\n",
      "Epoch 34/60\n",
      "2376/2376 - 0s - loss: 0.0558 - accuracy: 0.9806\n",
      "Epoch 35/60\n",
      "2376/2376 - 0s - loss: 0.0562 - accuracy: 0.9802\n",
      "Epoch 36/60\n",
      "2376/2376 - 0s - loss: 0.0526 - accuracy: 0.9827\n",
      "Epoch 37/60\n",
      "2376/2376 - 0s - loss: 0.0588 - accuracy: 0.9802\n",
      "Epoch 38/60\n",
      "2376/2376 - 0s - loss: 0.0552 - accuracy: 0.9815\n",
      "Epoch 39/60\n",
      "2376/2376 - 0s - loss: 0.0523 - accuracy: 0.9827\n",
      "Epoch 40/60\n",
      "2376/2376 - 0s - loss: 0.0522 - accuracy: 0.9815\n",
      "Epoch 41/60\n",
      "2376/2376 - 0s - loss: 0.0530 - accuracy: 0.9811\n",
      "Epoch 42/60\n",
      "2376/2376 - 0s - loss: 0.0532 - accuracy: 0.9802\n",
      "Epoch 43/60\n",
      "2376/2376 - 0s - loss: 0.0499 - accuracy: 0.9840\n",
      "Epoch 44/60\n",
      "2376/2376 - 0s - loss: 0.0483 - accuracy: 0.9827\n",
      "Epoch 45/60\n",
      "2376/2376 - 0s - loss: 0.0527 - accuracy: 0.9781\n",
      "Epoch 46/60\n",
      "2376/2376 - 0s - loss: 0.0513 - accuracy: 0.9815\n",
      "Epoch 47/60\n",
      "2376/2376 - 0s - loss: 0.0482 - accuracy: 0.9844\n",
      "Epoch 48/60\n",
      "2376/2376 - 0s - loss: 0.0452 - accuracy: 0.9832\n",
      "Epoch 49/60\n",
      "2376/2376 - 0s - loss: 0.0604 - accuracy: 0.9794\n",
      "Epoch 50/60\n",
      "2376/2376 - 0s - loss: 0.0457 - accuracy: 0.9832\n",
      "Epoch 51/60\n",
      "2376/2376 - 0s - loss: 0.0465 - accuracy: 0.9827\n",
      "Epoch 52/60\n",
      "2376/2376 - 0s - loss: 0.0492 - accuracy: 0.9819\n",
      "Epoch 53/60\n",
      "2376/2376 - 0s - loss: 0.0477 - accuracy: 0.9823\n",
      "Epoch 54/60\n",
      "2376/2376 - 0s - loss: 0.0423 - accuracy: 0.9853\n",
      "Epoch 55/60\n",
      "2376/2376 - 0s - loss: 0.0478 - accuracy: 0.9823\n",
      "Epoch 56/60\n",
      "2376/2376 - 0s - loss: 0.0428 - accuracy: 0.9836\n",
      "Epoch 57/60\n",
      "2376/2376 - 0s - loss: 0.0431 - accuracy: 0.9840\n",
      "Epoch 58/60\n",
      "2376/2376 - 0s - loss: 0.0466 - accuracy: 0.9832\n",
      "Epoch 59/60\n",
      "2376/2376 - 0s - loss: 0.0428 - accuracy: 0.9857\n",
      "Epoch 60/60\n",
      "2376/2376 - 0s - loss: 0.0437 - accuracy: 0.9832\n"
     ]
    },
    {
     "data": {
      "text/plain": [
       "<tensorflow.python.keras.callbacks.History at 0x1a4a001f50>"
      ]
     },
     "execution_count": 15,
     "metadata": {},
     "output_type": "execute_result"
    }
   ],
   "source": [
    "model.fit(\n",
    "    X_train_scaled,\n",
    "    y_train_categorical,\n",
    "    epochs=60,\n",
    "    shuffle=True,\n",
    "    verbose=2\n",
    ")"
   ]
  },
  {
   "cell_type": "markdown",
   "metadata": {},
   "source": [
    "## Quantify our Trained Model"
   ]
  },
  {
   "cell_type": "code",
   "execution_count": 16,
   "metadata": {},
   "outputs": [
    {
     "name": "stdout",
     "output_type": "stream",
     "text": [
      "792/1 - 0s - loss: 0.0328 - accuracy: 0.9798\n",
      "Normal Neural Network - Loss: 0.05984371190777782, Accuracy: 0.9797979593276978\n"
     ]
    }
   ],
   "source": [
    "model_loss, model_accuracy = model.evaluate(\n",
    "    X_test_scaled, y_test_categorical, verbose=2)\n",
    "print(\n",
    "    f\"Normal Neural Network - Loss: {model_loss}, Accuracy: {model_accuracy}\")"
   ]
  },
  {
   "cell_type": "markdown",
   "metadata": {
    "slideshow": {
     "slide_type": "subslide"
    }
   },
   "source": [
    "## Make Predictions"
   ]
  },
  {
   "cell_type": "code",
   "execution_count": 17,
   "metadata": {
    "nbgrader": {
     "grade": false,
     "grade_id": "cell-f97eb3e97245187b",
     "locked": false,
     "schema_version": 1,
     "solution": true
    },
    "slideshow": {
     "slide_type": "fragment"
    }
   },
   "outputs": [],
   "source": [
    "encoded_predictions = model.predict_classes(X_test_scaled[:5])\n",
    "prediction_labels = label_encoder.inverse_transform(encoded_predictions)"
   ]
  },
  {
   "cell_type": "code",
   "execution_count": 18,
   "metadata": {},
   "outputs": [
    {
     "name": "stdout",
     "output_type": "stream",
     "text": [
      "Predicted classes: ['female' 'female' 'female' 'female' 'female']\n",
      "Actual Labels: ['female', 'female', 'female', 'female', 'female']\n"
     ]
    }
   ],
   "source": [
    "print(f\"Predicted classes: {prediction_labels}\")\n",
    "print(f\"Actual Labels: {list(y_test[:5])}\")"
   ]
  }
 ],
 "metadata": {
  "kernelspec": {
   "display_name": "Python 3",
   "language": "python",
   "name": "python3"
  },
  "language_info": {
   "codemirror_mode": {
    "name": "ipython",
    "version": 3
   },
   "file_extension": ".py",
   "mimetype": "text/x-python",
   "name": "python",
   "nbconvert_exporter": "python",
   "pygments_lexer": "ipython3",
   "version": "3.7.6"
  },
  "varInspector": {
   "cols": {
    "lenName": 16,
    "lenType": 16,
    "lenVar": 40
   },
   "kernels_config": {
    "python": {
     "delete_cmd_postfix": "",
     "delete_cmd_prefix": "del ",
     "library": "var_list.py",
     "varRefreshCmd": "print(var_dic_list())"
    },
    "r": {
     "delete_cmd_postfix": ") ",
     "delete_cmd_prefix": "rm(",
     "library": "var_list.r",
     "varRefreshCmd": "cat(var_dic_list()) "
    }
   },
   "types_to_exclude": [
    "module",
    "function",
    "builtin_function_or_method",
    "instance",
    "_Feature"
   ],
   "window_display": false
  }
 },
 "nbformat": 4,
 "nbformat_minor": 4
}
