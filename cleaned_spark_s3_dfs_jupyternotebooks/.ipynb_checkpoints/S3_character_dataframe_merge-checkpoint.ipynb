{
 "cells": [
  {
   "cell_type": "code",
   "execution_count": 1,
   "metadata": {
    "colab": {
     "base_uri": "https://localhost:8080/",
     "height": 394
    },
    "colab_type": "code",
    "id": "fnVjnFPJ09K8",
    "outputId": "90ff6933-0b12-4090-edfd-7f0ce95fccfd"
   },
   "outputs": [
    {
     "name": "stdout",
     "output_type": "stream",
     "text": [
      "\r",
      "0% [Working]\r",
      "            \r",
      "Hit:1 https://cloud.r-project.org/bin/linux/ubuntu bionic-cran35/ InRelease\n",
      "\r",
      "0% [Connecting to archive.ubuntu.com] [Connecting to security.ubuntu.com] [Wait\r",
      "0% [1 InRelease gpgv 3,626 B] [Connecting to archive.ubuntu.com] [Connecting to\r",
      "                                                                               \r",
      "Ign:2 https://developer.download.nvidia.com/compute/cuda/repos/ubuntu1804/x86_64  InRelease\n",
      "\r",
      "0% [1 InRelease gpgv 3,626 B] [Connecting to archive.ubuntu.com (91.189.88.142)\r",
      "0% [Connecting to archive.ubuntu.com (91.189.88.142)] [Connecting to security.u\r",
      "                                                                               \r",
      "Ign:3 https://developer.download.nvidia.com/compute/machine-learning/repos/ubuntu1804/x86_64  InRelease\n",
      "\r",
      "0% [Connecting to archive.ubuntu.com (91.189.88.142)] [Connecting to security.u\r",
      "                                                                               \r",
      "Hit:4 https://developer.download.nvidia.com/compute/cuda/repos/ubuntu1804/x86_64  Release\n",
      "Hit:5 https://developer.download.nvidia.com/compute/machine-learning/repos/ubuntu1804/x86_64  Release\n",
      "Hit:6 http://ppa.launchpad.net/graphics-drivers/ppa/ubuntu bionic InRelease\n",
      "Hit:8 http://archive.ubuntu.com/ubuntu bionic InRelease\n",
      "Get:9 http://security.ubuntu.com/ubuntu bionic-security InRelease [88.7 kB]\n",
      "Get:11 http://archive.ubuntu.com/ubuntu bionic-updates InRelease [88.7 kB]\n",
      "Hit:12 http://ppa.launchpad.net/marutter/c2d4u3.5/ubuntu bionic InRelease\n",
      "Get:13 http://archive.ubuntu.com/ubuntu bionic-backports InRelease [74.6 kB]\n",
      "Fetched 252 kB in 2s (121 kB/s)\n",
      "Reading package lists... Done\n",
      "Reading package lists... Done\n",
      "Building dependency tree       \n",
      "Reading state information... Done\n",
      "openjdk-8-jdk is already the newest version (8u265-b01-0ubuntu2~18.04).\n",
      "The following package was automatically installed and is no longer required:\n",
      "  libnvidia-common-440\n",
      "Use 'apt autoremove' to remove it.\n",
      "0 upgraded, 0 newly installed, 0 to remove and 54 not upgraded.\n"
     ]
    }
   ],
   "source": [
    "# Install Java, Spark, and Findspark\n",
    "#!apt-get install openjdk-8-jdk-headless -qq > /dev/null\n",
    "!apt-get update\n",
    "!apt-get install openjdk-8-jdk\n",
    "!wget -q https://downloads.apache.org/spark/spark-2.4.6/spark-2.4.6-bin-hadoop2.7.tgz\n",
    "!tar xf spark-2.4.6-bin-hadoop2.7.tgz\n",
    "!pip install -q findspark\n",
    "# Set Environment Variables\n",
    "import os\n",
    "os.environ[\"JAVA_HOME\"] = \"/usr/lib/jvm/java-8-openjdk-amd64\"\n",
    "os.environ[\"SPARK_HOME\"] = \"/content/spark-2.4.6-bin-hadoop2.7\"\n",
    "# Start a SparkSession\n",
    "import findspark\n",
    "findspark.init()"
   ]
  },
  {
   "cell_type": "code",
   "execution_count": 2,
   "metadata": {
    "colab": {},
    "colab_type": "code",
    "id": "I96CCr7O1T-7"
   },
   "outputs": [],
   "source": [
    "from pyspark.sql import SparkSession\n",
    "spark = SparkSession.builder.appName(\"CloudETL\").getOrCreate()"
   ]
  },
  {
   "cell_type": "code",
   "execution_count": 3,
   "metadata": {
    "colab": {
     "base_uri": "https://localhost:8080/",
     "height": 479
    },
    "colab_type": "code",
    "id": "doJxaFCQ1XKH",
    "outputId": "321fba55-005b-4a90-d3b9-d51a920f3e86"
   },
   "outputs": [
    {
     "name": "stdout",
     "output_type": "stream",
     "text": [
      "+---+----------+------------------+---+--------------------+--------+----------+--------------------+----------+----------+----+---+-------+-----+-------------------+-------------------+-----+-----+---------+---------+----+--------+-----------------+----------------+----------------+------------------+----------+----------+--------------------+--------------------+--------+--------------------+----------+--------+---------+----------+----------+----------+------+-------+------+----+--------+------+------+--------+-------+------+--------+------------------+------------------+--------------------+-----------+----+\n",
      "|_c0|Unnamed: 0|         npa_acres|NPA|        npa_geometry|OBJECTID|  Petition|          Petitioner|  FromZone|    ToZone|Type|SPA|Overlay|INNOV|              Acres|           PetAcres|Water|Sewer|CityLimit|ZoningMap| ODZ|     CCW|      ServiceArea|       LuseStaff|     UrbanDesign|       RezoneStaff|Consistent|ProtestPet|            Received|            Approved|Decision|           Hyperlink|Corrective|Propluse|AdminAppr|AdminApprD|AdminApprP|AdminApprC|SFLOTS|THUNITS|CONDOS| APT|TOTUNITS|OFFICE|RETAIL|HOTELRMS|PARKING|OPENSP|ACRESITE|       SHAPESTArea|     SHAPESTLength|            centroid|NPA_Located|year|\n",
      "+---+----------+------------------+---+--------------------+--------+----------+--------------------+----------+----------+----+---+-------+-----+-------------------+-------------------+-----+-----+---------+---------+----+--------+-----------------+----------------+----------------+------------------+----------+----------+--------------------+--------------------+--------+--------------------+----------+--------+---------+----------+----------+----------+------+-------+------+----+--------+------+------+--------+-------+------+--------+------------------+------------------+--------------------+-----------+----+\n",
      "|  0|         0|411.11156978699995|  2|POLYGON ((-80.781...|  565777| 1999-062C|                null|       B-1|       R-4|null| no|   null| null|               null|               null| null| null|     null|     null|null|    null|             null|            null|            null|              null|      null|      null|                null|1999/06/21 00:00:...|     App|                null|      null|    null|     null|      null|      null|      null|  null|   null|  null|null|    null|  null|  null|    null|   null|  null|    null|13446.470947265625| 483.6885316872908|{'lng': -80.79071...|        2.0|1999|\n",
      "|  1|         1|411.11156978699995|  2|POLYGON ((-80.781...|  565912| 1993-064B|                null|  O-2, B-1|R-4, R-8MF|null| no|   null| null|               null|               null| null| null|     null|     null|null|    null|             null|            null|            null|              null|      null|      null|                null|1993/10/11 00:00:...|     App|                null|      null|    null|     null|      null|      null|      null|  null|   null|  null|null|    null|  null|  null|    null|   null|  null|    null|16214.393005371094| 519.0953243522008|{'lng': -80.79002...|        2.0|1993|\n",
      "|  2|         2|411.11156978699995|  2|POLYGON ((-80.781...|  566494|  2020-040|Alenky Signature ...|       R-4|       R-8|  NC| no|   none|   NO|0.39799999999999996|0.39799999999999996| CMUD| CMUD|      YES|      112|null|   Wedge|             null|  Travis Johnson|            null|              null|      null|      null|2020/02/18 15:12:...|2020/07/20 00:00:...|     App|https://charlotte...|      null|    null|     null|      null|      null|      null|  null|   null|  null|null|    null|  null|  null|    null|   null|  null|    null|26309.759643554688| 829.5869398204107|{'lng': -80.78879...|        2.0|2020|\n",
      "|  3|         3|411.11156978699995|  2|POLYGON ((-80.781...|  566786|  1989-096|                null|B-2, R-6MF|    B-1SCD|null| no|   null| null|               null|               null| null| null|     null|     null|null|    null|             null|            null|            null|              null|      null|      null|                null|1990/01/16 00:00:...|     App|                null|      null|    null|     null|      null|      null|      null|  null|   null|  null|null|    null|  null|  null|    null|   null|  null|    null| 1371697.956237793| 5651.219278602138|{'lng': -80.78245...|        2.0|1989|\n",
      "|  4|         4|411.11156978699995|  2|POLYGON ((-80.781...|  567030| 1993-064A|                null|  O-2, B-1|R-4, R-8MF|null| no|   null| null|               null|               null| null| null|     null|     null|null|    null|             null|            null|            null|              null|      null|      null|                null|1993/10/11 00:00:...|     App|                null|      null|    null|     null|      null|      null|      null|  null|   null|  null|null|    null|  null|  null|    null|   null|  null|    null|219010.07208251953| 2256.247769878172|{'lng': -80.78738...|        2.0|1993|\n",
      "|  5|         5|411.11156978699995|  2|POLYGON ((-80.781...|  567132|  2019-112|         Mark Heisig|       O-2|       R-4|  NC| no|   none|   NO|               0.33|               0.33| CMUD| CMUD|      YES|      112|null|   Wedge|          Central|   Scott Correll|    Grant Meacci|Claire Lyte-Graham|      null|      null|2019/07/17 11:14:...|2019/12/16 00:00:...|     App|https://charlotte...|      null|    null|     null|      null|      null|      null|  null|   null|  null|null|    null|  null|  null|    null|   null|  null|    null| 15366.51904296875| 602.4801869678214|{'lng': -80.79030...|        2.0|2019|\n",
      "|  6|         6|411.11156978699995|  2|POLYGON ((-80.781...|  567142| 1993-064A|                null|  O-2, B-1|R-4, R-8MF|null| no|   null| null|               null|               null| null| null|     null|     null|null|    null|             null|            null|            null|              null|      null|      null|                null|1993/10/11 00:00:...|     App|                null|      null|    null|     null|      null|      null|      null|  null|   null|  null|null|    null|  null|  null|    null|   null|  null|    null| 65131.97717285156|1396.7808218178327|{'lng': -80.78955...|        2.0|1993|\n",
      "|  7|         7|411.11156978699995|  2|POLYGON ((-80.781...|  567205| 1993-064D|                null|  O-2, B-1|R-4, R-8MF|null| no|   null| null|               null|               null| null| null|     null|     null|null|    null|             null|            null|            null|              null|      null|      null|                null|1993/10/11 00:00:...|     App|                null|      null|    null|     null|      null|      null|      null|  null|   null|  null|null|    null|  null|  null|    null|   null|  null|    null| 426008.5903320313| 2790.630249225409|{'lng': -80.79032...|        2.0|1993|\n",
      "|  8|         8|411.11156978699995|  2|POLYGON ((-80.781...|  567309| 1999-062F|                null|    R-22MF|    R-17MF|null| no|   null| null|               null|               null| null| null|     null|     null|null|    null|             null|            null|            null|              null|      null|      null|                null|1999/06/21 00:00:...|     App|                null|      null|    null|     null|      null|      null|      null|  null|   null|  null|null|    null|  null|  null|    null|   null|  null|    null|  452192.744140625| 4055.981080818504|{'lng': -80.78426...|        2.0|1999|\n",
      "|  9|         9|411.11156978699995|  2|POLYGON ((-80.781...|  567496|  2014-094|Eastway II Holdin...|    BD(CD)|    BD(CD)|  CD|SPA|   none|   NO|               3.05|               3.05| CMUD| CMUD|      YES|      112|null|   Wedge|          Central|Gonzalez_Alberto|   Dixon_Bridget|     Sanders_Sonja|      null|        NO|2014/07/28 00:00:...|2014/10/20 00:00:...|     App|http://charlotten...|      null|  Retail|     null|      null|      null|      null|  null|   null|  null|null|    null|  null|  null|    null|   null|  null|    null| 127415.1187133789|1578.0340064436828|{'lng': -80.78437...|        2.0|2014|\n",
      "| 10|        10|411.11156978699995|  2|POLYGON ((-80.781...|  567821| 1993-064B|                null|  O-2, B-1|R-4, R-8MF|null| no|   null| null|               null|               null| null| null|     null|     null|null|    null|             null|            null|            null|              null|      null|      null|                null|1993/10/11 00:00:...|     App|                null|      null|    null|     null|      null|      null|      null|  null|   null|  null|null|    null|  null|  null|    null|   null|  null|    null| 97832.62908935547|1736.4751040663336|{'lng': -80.78944...|        2.0|1993|\n",
      "| 11|        11|411.11156978699995|  2|POLYGON ((-80.781...|  567873|  2014-094|Eastway II Holdin...|    B-1SCD|    BD(CD)|  CD| no|   none|   NO|               3.74|               3.74| CMUD| CMUD|      YES|      112|null|   Wedge|          Central|Gonzalez_Alberto|   Dixon_Bridget|     Sanders_Sonja|      null|        NO|2014/07/28 00:00:...|2014/10/20 00:00:...|     App|http://charlotten...|      null|  Retail|     null|      null|      null|      null|  null|   null|  null|null|    null|  null|  null|    null|   null|  null|    null|18002.463134765625| 999.3781858933363|{'lng': -80.78422...|        2.0|2014|\n",
      "| 12|        12|411.11156978699995|  2|POLYGON ((-80.781...|  569250|  2013-073|Eastway II Holdin...|    B-1SCD|    BD(CD)|  CD| no|   none|   NO|               3.74|               3.74| CMUD| CMUD|      YES|      112|null|   Wedge|          Central|Gonzalez_Alberto|    Goodwin_Alan|     Sanders_Sonja|      null|      null|2013/06/24 00:00:...|2013/10/21 00:00:...|     App|http://charlotten...|        NO|  Retail|     null|      null|      null|      null|  null|   null|  null|null|    null|  null|  null|    null|   null|  null|    null|     127450.984375|1578.0806106861005|{'lng': -80.78417...|        2.0|2013|\n",
      "| 13|        13|411.11156978699995|  2|POLYGON ((-80.781...|  569281|  2008-157|Michael Berglass,...|    R-22MF|        NS|  CD| no|   null| null|               0.44|               0.44| CMUD| CMUD|      YES|      101| 447|Corridor|          Central|     Howard_John|    Dhindaw_Jaya|     Sanders_Sonja|        NO|      null|2008/09/29 00:00:...|2009/01/26 00:00:...|     App|http://charlotten...|      null|    null|     null|      null|      null|      null|  null|   null|  null|null|    null|  null|  null|    null|   null|  null|    null|22307.286682128906| 652.0407711546936|{'lng': -80.78675...|        2.0|2008|\n",
      "| 14|        14|411.11156978699995|  2|POLYGON ((-80.781...|  569416|  2016-037|Dr. Michael Bergl...|  UR-C(CD)|  UR-C(CD)|  CD|SPA|   none|   NO|               0.44|               0.44| CMUD| CMUD|      YES|      101|null|Corridor|             East|     Amanda Vari|   Monica Holmes|     Sonja Sanders|      null|      null|2015/12/23 00:00:...|2016/06/20 00:00:...|     App|http://charlotten...|      null| Office1|     null|      null|      null|      null|  null|   null|  null|null|    null|  null|  null|    null|   null|  null|    null| 22307.26928710937| 652.0400136284502|{'lng': -80.78674...|        2.0|2016|\n",
      "| 15|        15|411.11156978699995|  2|POLYGON ((-80.781...|  569695| 1999-061C|                null|    R-22MF|       R-8|null| no|   null| null|               null|               null| null| null|     null|     null|null|    null|             null|            null|            null|              null|      null|      null|                null|1999/06/21 00:00:...|     App|                null|      null|    null|     null|      null|      null|      null|  null|   null|  null|null|    null|  null|  null|    null|   null|  null|    null|367393.12384033203| 4068.204726195072|{'lng': -80.79473...|        2.0|1999|\n",
      "| 16|        16|411.11156978699995|  2|POLYGON ((-80.781...|  569930|  2007-059|       John R. Poore|    MUDD-O|  UR-2(CD)|  CD| no|   null| null|                1.3|                1.3| CMUD| CMUD|      YES|      112|  59|Corridor|Southeast-Transit|   Johnson_Garet|Vincent_Kourtnie|Lyte-Graham_Claire|        NO|      null|2007/02/20 00:00:...|2007/06/18 00:00:...|     App|                    |      null|    null|     null|      null|      null|      null|  null|   null|  null|null|    null|  null|  null|    null|   null|  null|    null| 80828.18298339844|1184.8429034165847|{'lng': -80.79617...|        2.0|2007|\n",
      "| 17|        17|411.11156978699995|  2|POLYGON ((-80.781...|  570002| 1999-062D|                null|       O-2|    R-22MF|null| no|   null| null|               null|               null| null| null|     null|     null|null|    null|             null|            null|            null|              null|      null|      null|                null|1999/06/21 00:00:...|     App|                null|      null|    null|     null|      null|      null|      null|  null|   null|  null|null|    null|  null|  null|    null|   null|  null|    null|25818.262756347656| 834.4728064426939|{'lng': -80.79100...|        2.0|1999|\n",
      "| 18|        18|411.11156978699995|  2|POLYGON ((-80.781...|  570042| 1999-062B|                null|       B-1|       R-4|null| no|   null| null|               null|               null| null| null|     null|     null|null|    null|             null|            null|            null|              null|      null|      null|                null|1999/06/21 00:00:...|     App|                null|      null|    null|     null|      null|      null|      null|  null|   null|  null|null|    null|  null|  null|    null|   null|  null|    null| 9183.469787597656| 485.5393288936492|{'lng': -80.78990...|        2.0|1999|\n",
      "| 19|        19|411.11156978699995|  2|POLYGON ((-80.781...|  570360|1993-064AB|                null|  O-2, B-1|R-4, R-8MF|null| no|   null| null|               null|               null| null| null|     null|     null|null|    null|             null|            null|            null|              null|      null|      null|                null|1993/10/11 00:00:...|     App|                null|      null|    null|     null|      null|      null|      null|  null|   null|  null|null|    null|  null|  null|    null|   null|  null|    null| 83254.36907958983|1568.0387832049532|{'lng': -80.79191...|        2.0|1993|\n",
      "+---+----------+------------------+---+--------------------+--------+----------+--------------------+----------+----------+----+---+-------+-----+-------------------+-------------------+-----+-----+---------+---------+----+--------+-----------------+----------------+----------------+------------------+----------+----------+--------------------+--------------------+--------+--------------------+----------+--------+---------+----------+----------+----------+------+-------+------+----+--------+------+------+--------+-------+------+--------+------------------+------------------+--------------------+-----------+----+\n",
      "only showing top 20 rows\n",
      "\n"
     ]
    }
   ],
   "source": [
    "from pyspark import SparkFiles\n",
    "#Import matched_npa_requests.csv file\n",
    "url_5 = \"https://charlotte-rezoning-model.s3.us-east-2.amazonaws.com/matched_npa_requests_year.csv\"\n",
    "spark.sparkContext.addFile(url_5)\n",
    "npa_data_df = spark.read.csv(SparkFiles.get(\"matched_npa_requests_year.csv\"), sep=\",\", header=True, inferSchema=True)\n",
    "\n",
    "# Show DataFrame\n",
    "npa_data_df.show()"
   ]
  },
  {
   "cell_type": "code",
   "execution_count": 3,
   "metadata": {
    "colab": {},
    "colab_type": "code",
    "id": "1pt_oAX24jkU"
   },
   "outputs": [],
   "source": []
  },
  {
   "cell_type": "code",
   "execution_count": 3,
   "metadata": {
    "colab": {},
    "colab_type": "code",
    "id": "2EohY-q26kE7"
   },
   "outputs": [],
   "source": []
  },
  {
   "cell_type": "code",
   "execution_count": 3,
   "metadata": {
    "colab": {},
    "colab_type": "code",
    "id": "v1ECfTZi5mLR"
   },
   "outputs": [],
   "source": []
  },
  {
   "cell_type": "code",
   "execution_count": 4,
   "metadata": {
    "colab": {
     "base_uri": "https://localhost:8080/",
     "height": 479
    },
    "colab_type": "code",
    "id": "AjHdUmvs2kUe",
    "outputId": "c2c79d42-4dd4-4d2e-a600-b7d646dcb092"
   },
   "outputs": [
    {
     "name": "stdout",
     "output_type": "stream",
     "text": [
      "+---+---+----+-------------------+--------------------+--------------------+----------------+--------------------+--------------------+---------------+----------------+--------------------+-------------------+---------------+----------------+----------------+----------------+----------------+-----------+----------------------+------+------------------+----------+--------------------------+\n",
      "|_c0|NPA|year|hispanic_latino_moe|asian_population_moe|age_of_residents_moe|youth_population|black_population_moe|white_population_moe|all_other_races|white_population|youth_population_moe|all_other_races_moe|hispanic_latino|vacant_land_area|age_of_residents|black_population|asian_population|vacant_land|older_adult_population|  area|population_density|population|older_adult_population_moe|\n",
      "+---+---+----+-------------------+--------------------+--------------------+----------------+--------------------+--------------------+---------------+----------------+--------------------+-------------------+---------------+----------------+----------------+----------------+----------------+-----------+----------------------+------+------------------+----------+--------------------------+\n",
      "|  0|  2|2015|               null|                null|                null|            null|                null|                null|           null|            null|                null|               null|           null|           17.66|            null|            null|            null|        4.3|                  null| 411.0|               5.0|    2216.0|                      null|\n",
      "|  1|  2|2013|               null|                null|                null|            null|                null|                null|           null|            null|                null|               null|           null|            18.0|            null|            null|            null|        4.3|                  null| 411.0|               5.0|    2167.0|                      null|\n",
      "|  2|  2|2018|               null|                null|                null|            null|                null|                null|           null|            null|                null|               null|           null|            18.0|            null|            null|            null|        4.3|                  null|  null|               5.0|    2243.0|                      null|\n",
      "|  3|  2|2017|               10.0|                 1.0|                null|            18.0|                10.0|                14.0|            3.0|            54.0|                 6.0|                5.0|           15.0|            18.0|            33.0|            28.0|             1.0|        4.3|                   6.0|  null|               5.0|    2241.0|                       2.0|\n",
      "|  4|  2|2016|               null|                null|                null|            null|                null|                null|           null|            null|                null|               null|           null|            18.0|            null|            null|            null|        4.3|                  null|  null|               5.0|    2240.0|                      null|\n",
      "|  5|  2|2011|               null|                null|                null|            null|                null|                null|           null|            null|                null|               null|           null|            18.0|            null|            null|            null|        4.3|                  null|  null|              null|      null|                      null|\n",
      "|  6|  3|2015|               null|                null|                null|            null|                null|                null|           null|            null|                null|               null|           null|           29.05|            null|            null|            null|        2.5|                  null|1156.0|               7.0|    7938.0|                      null|\n",
      "|  7|  3|2013|               null|                null|                null|            null|                null|                null|           null|            null|                null|               null|           null|            33.0|            null|            null|            null|        2.8|                  null|1156.0|               7.0|    7810.0|                      null|\n",
      "|  8|  3|2018|               null|                null|                null|            null|                null|                null|           null|            null|                null|               null|           null|            27.0|            null|            null|            null|        2.4|                  null|  null|               8.0|    9758.0|                      null|\n",
      "|  9|  3|2017|                1.0|                 2.0|                null|            14.0|                 2.0|                 4.0|            4.0|            84.0|                 3.0|                3.0|            2.0|            27.0|            36.0|             7.0|             3.0|        2.4|                   9.0|  null|               8.0|    8816.0|                       2.0|\n",
      "| 10|  3|2016|               null|                null|                null|            null|                null|                null|           null|            null|                null|               null|           null|            27.0|            null|            null|            null|        2.4|                  null|  null|               7.0|    7986.0|                      null|\n",
      "| 11|  3|2011|               null|                null|                null|            null|                null|                null|           null|            null|                null|               null|           null|            36.0|            null|            null|            null|        3.2|                  null|  null|              null|      null|                      null|\n",
      "| 12|  4|2015|               null|                null|                null|            null|                null|                null|           null|            null|                null|               null|           null|           16.65|            null|            null|            null|        5.1|                  null| 329.0|               3.0|    1078.0|                      null|\n",
      "| 13|  4|2013|               null|                null|                null|            null|                null|                null|           null|            null|                null|               null|           null|            17.0|            null|            null|            null|        5.1|                  null| 329.0|               3.0|    1065.0|                      null|\n",
      "| 14|  4|2018|               null|                null|                null|            null|                null|                null|           null|            null|                null|               null|           null|            14.0|            null|            null|            null|        4.3|                  null|  null|               3.0|    1120.0|                      null|\n",
      "| 15|  4|2017|                1.0|                 6.0|                 7.0|            26.0|                 1.0|                 7.0|            0.0|            95.0|                 7.0|                5.0|            0.0|            14.0|            48.0|             0.0|             5.0|        4.3|                  19.0|  null|               3.0|    1089.0|                       5.0|\n",
      "| 16|  4|2016|               null|                null|                null|            null|                null|                null|           null|            null|                null|               null|           null|            14.0|            null|            null|            null|        4.3|                  null|  null|               3.0|    1080.0|                      null|\n",
      "| 17|  4|2011|               null|                null|                null|            null|                null|                null|           null|            null|                null|               null|           null|            17.0|            null|            null|            null|        5.1|                  null|  null|              null|      null|                      null|\n",
      "| 18|  5|2015|               null|                null|                null|            null|                null|                null|           null|            null|                null|               null|           null|           35.72|            null|            null|            null|       21.4|                  null| 167.0|               4.0|     745.0|                      null|\n",
      "| 19|  5|2013|               null|                null|                null|            null|                null|                null|           null|            null|                null|               null|           null|            36.0|            null|            null|            null|       21.4|                  null| 167.0|               5.0|     763.0|                      null|\n",
      "+---+---+----+-------------------+--------------------+--------------------+----------------+--------------------+--------------------+---------------+----------------+--------------------+-------------------+---------------+----------------+----------------+----------------+----------------+-----------+----------------------+------+------------------+----------+--------------------------+\n",
      "only showing top 20 rows\n",
      "\n"
     ]
    }
   ],
   "source": [
    "#Import Character.csv file\n",
    "url_3 = \"https://charlotte-rezoning-model.s3.us-east-2.amazonaws.com/Character.csv\"\n",
    "spark.sparkContext.addFile(url_3)\n",
    "character_data_df = spark.read.csv(SparkFiles.get(\"Character.csv\"), sep=\",\", header=True, inferSchema=True)\n",
    "\n",
    "# Show DataFrame\n",
    "character_data_df.show()"
   ]
  },
  {
   "cell_type": "code",
   "execution_count": 6,
   "metadata": {
    "colab": {},
    "colab_type": "code",
    "id": "I2-7fQ6p2_9J"
   },
   "outputs": [],
   "source": [
    "joined_df = npa_data_df.join(character_data_df,on=[\"NPA\",\"year\"], how=\"left\")"
   ]
  },
  {
   "cell_type": "code",
   "execution_count": 16,
   "metadata": {
    "colab": {
     "base_uri": "https://localhost:8080/",
     "height": 479
    },
    "colab_type": "code",
    "id": "S_OniL-P2yFO",
    "outputId": "848f86c7-8a39-488c-da01-c4bea6fa408d"
   },
   "outputs": [
    {
     "name": "stdout",
     "output_type": "stream",
     "text": [
      "+---+----+---+----------+-------------+--------------------+--------+--------+--------------------+--------+---------+----+---+--------+-----+-----+--------+-----+-----+---------+---------+----+--------+-----------+----------------+-------------+------------------+----------+----------+--------------------+--------------------+--------+--------------------+----------+--------+---------+----------+----------+----------+------+-------+------+----+--------+------+------+--------+-------+------+--------+------------------+------------------+--------------------+-----------+---+-------------------+--------------------+--------------------+----------------+--------------------+--------------------+---------------+----------------+--------------------+-------------------+---------------+----------------+----------------+----------------+----------------+-----------+----------------------+----+------------------+----------+--------------------------+\n",
      "|NPA|year|_c0|Unnamed: 0|    npa_acres|        npa_geometry|OBJECTID|Petition|          Petitioner|FromZone|   ToZone|Type|SPA| Overlay|INNOV|Acres|PetAcres|Water|Sewer|CityLimit|ZoningMap| ODZ|     CCW|ServiceArea|       LuseStaff|  UrbanDesign|       RezoneStaff|Consistent|ProtestPet|            Received|            Approved|Decision|           Hyperlink|Corrective|Propluse|AdminAppr|AdminApprD|AdminApprP|AdminApprC|SFLOTS|THUNITS|CONDOS| APT|TOTUNITS|OFFICE|RETAIL|HOTELRMS|PARKING|OPENSP|ACRESITE|       SHAPESTArea|     SHAPESTLength|            centroid|NPA_Located|_c0|hispanic_latino_moe|asian_population_moe|age_of_residents_moe|youth_population|black_population_moe|white_population_moe|all_other_races|white_population|youth_population_moe|all_other_races_moe|hispanic_latino|vacant_land_area|age_of_residents|black_population|asian_population|vacant_land|older_adult_population|area|population_density|population|older_adult_population_moe|\n",
      "+---+----+---+----------+-------------+--------------------+--------+--------+--------------------+--------+---------+----+---+--------+-----+-----+--------+-----+-----+---------+---------+----+--------+-----------+----------------+-------------+------------------+----------+----------+--------------------+--------------------+--------+--------------------+----------+--------+---------+----------+----------+----------+------+-------+------+----+--------+------+------+--------+-------+------+--------+------------------+------------------+--------------------+-----------+---+-------------------+--------------------+--------------------+----------------+--------------------+--------------------+---------------+----------------+--------------------+-------------------+---------------+----------------+----------------+----------------+----------------+-----------+----------------------+----+------------------+----------+--------------------------+\n",
      "|  3|2017| 53|        53|1155.55900936|POLYGON ((-80.853...|  566415|2017-149|       ABW Charlotte|   TOD-M| TOD-M(O)|  CD| no|    none|   NO|0.529|   0.529| CMUD| CMUD|      YES|      102|null|Corridor|    Central|   Cornett_Kathy| Goodwin_Alan|   Fortune_Solomon|      null|      null|2017/09/22 00:00:...|2018/01/26 00:00:...|     App|http://charlotten...|      null|   TOD-M|     null|      null|      null|      null|  null|   null|  null|null|    null|  null|  null|    null|   null|  null|    null|14964.694213867188|  611.561063017316|{'lng': -80.85725...|        3.0|  9|                1.0|                 2.0|                null|            14.0|                 2.0|                 4.0|            4.0|            84.0|                 3.0|                3.0|            2.0|            27.0|            36.0|             7.0|             3.0|        2.4|                   9.0|null|               8.0|    8816.0|                       2.0|\n",
      "|  3|2017|110|       110|1155.55900936|POLYGON ((-80.853...|  567949|2017-149|       ABW Charlotte|     B-1| TOD-M(O)|  CD| no|    none|   NO|0.529|   0.529| CMUD| CMUD|      YES|      102|null|Corridor|    Central|   Cornett_Kathy| Goodwin_Alan|   Fortune_Solomon|      null|      null|2017/09/22 00:00:...|2018/01/26 00:00:...|     App|http://charlotten...|      null|   TOD-M|     null|      null|      null|      null|  null|   null|  null|null|    null|  null|  null|    null|   null|  null|    null| 21813.57012939453| 604.9397665856745|{'lng': -80.85696...|        3.0|  9|                1.0|                 2.0|                null|            14.0|                 2.0|                 4.0|            4.0|            84.0|                 3.0|                3.0|            2.0|            27.0|            36.0|             7.0|             3.0|        2.4|                   9.0|null|               8.0|    8816.0|                       2.0|\n",
      "|  3|2017|138|       138|1155.55900936|POLYGON ((-80.853...|  568538|2017-046|  Mecklenburg County|     B-2|     MUDD|  NC| no|     PED|   NO| 2.82|    2.82| CMUD| CMUD|      YES|      102|null|Corridor|    Central|   Cornett_Kathy| Goodwin_Alan|   Fortune_Solomon|      null|      null|2017/02/22 00:00:...|2017/05/15 00:00:...|     App|http://charlotten...|      null|    null|     null|      null|      null|      null|  null|   null|  null|null|    null|  null|  null|    null|   null|  null|    null| 131112.3833618164|1537.1233011416684|{'lng': -80.84130...|        3.0|  9|                1.0|                 2.0|                null|            14.0|                 2.0|                 4.0|            4.0|            84.0|                 3.0|                3.0|            2.0|            27.0|            36.0|             7.0|             3.0|        2.4|                   9.0|null|               8.0|    8816.0|                       2.0|\n",
      "|  3|2017|141|       141|1155.55900936|POLYGON ((-80.853...|  568591|2017-170|       South 48. LLC|     B-2|    TOD-M|  NC| no|    none|   NO|  1.4|     1.4| CMUD| CMUD|      YES|      110|null|Corridor|    Central|   Kathy Cornett| Alan Goodwin|   Solomon Fortune|      null|      null|2017/10/23 00:00:...|2018/02/19 00:00:...|     App|http://charlotten...|      null|    null|     null|      null|      null|      null|  null|   null|  null|null|    null|  null|  null|    null|   null|  null|    null| 73041.71105957031| 1083.902800764836|{'lng': -80.86375...|        3.0|  9|                1.0|                 2.0|                null|            14.0|                 2.0|                 4.0|            4.0|            84.0|                 3.0|                3.0|            2.0|            27.0|            36.0|             7.0|             3.0|        2.4|                   9.0|null|               8.0|    8816.0|                       2.0|\n",
      "|  3|2017|168|       168|1155.55900936|POLYGON ((-80.853...|  569316|2017-011|Pappas Properties...|     B-2| O-2(PED)|  NC| no|    none|   NO| 0.93|    0.93| CMUD| CMUD|      YES| 102, 111|null|Corridor|    Central|   Cornett_Kathy| Goodwin_Alan|   Fortune_Solomon|      null|      null|2016/10/24 00:00:...|2017/02/20 00:00:...|     App|http://charlotten...|      null|    null|     null|      null|      null|      null|  null|   null|  null|null|    null|  null|  null|    null|   null|  null|    null| 28471.97918701172|1196.1914075344341|{'lng': -80.83848...|        3.0|  9|                1.0|                 2.0|                null|            14.0|                 2.0|                 4.0|            4.0|            84.0|                 3.0|                3.0|            2.0|            27.0|            36.0|             7.0|             3.0|        2.4|                   9.0|null|               8.0|    8816.0|                       2.0|\n",
      "|  3|2017|238|       238|1155.55900936|POLYGON ((-80.853...|  571357|2017-098|Urban Investments...|     O-2|    TOD-M|  NC| no|    none|   NO| 0.16|   0.161| CMUD| CMUD|      YES|      102|null|Corridor|    Central|   Kathy Cornett| Goodwin_Alan|   Fortune_Solomon|      null|      null|2017/06/02 00:00:...|2017/10/16 00:00:...|     App|http://charlotten...|      null|   TOD-M|     null|      null|      null|      null|  null|   null|  null|null|    null|  null|  null|    null|   null|  null|    null| 14223.80206298828|504.11091213072433|{'lng': -80.85029...|        3.0|  9|                1.0|                 2.0|                null|            14.0|                 2.0|                 4.0|            4.0|            84.0|                 3.0|                3.0|            2.0|            27.0|            36.0|             7.0|             3.0|        2.4|                   9.0|null|               8.0|    8816.0|                       2.0|\n",
      "| 11|2017|328|       328| 517.20452841|POLYGON ((-80.844...|  567012|2017-053|Hopper Communitie...|     R-4|UR-2 (CD)|  CD| no|    none|   NO| 0.86|    0.86| CMUD| CMUD|      YES|      125|null|   Wedge|    Central|   Cornett_Kathy| Goodwin_Alan|   Fortune_Solomon|      null|      null|2017/02/24 00:00:...|2017/07/17 00:00:...|     App|http://charlotten...|      null|  Resid8|     null|      null|      null|      null|  null|   null|  null|null|    null|  null|  null|    null|   null|  null|    null| 15274.68133544922| 609.1349383427765|{'lng': -80.85066...|       11.0| 57|                2.0|                 1.0|                null|            25.0|                 1.0|                 4.0|            2.0|            96.0|                 6.0|                4.0|            1.0|            19.0|            35.0|             1.0|             0.0|        3.8|                   8.0|null|               5.0|    2651.0|                       3.0|\n",
      "| 11|2017|336|       336| 517.20452841|POLYGON ((-80.844...|  569590|2017-053|Hopper Communitie...|     R-5|UR-2 (CD)|  CD| no|    none|   NO| 0.86|    0.86| CMUD| CMUD|      YES|      125|null|   Wedge|    Central|   Cornett_Kathy| Goodwin_Alan|   Fortune_Solomon|      null|      null|2017/02/24 00:00:...|2017/07/17 00:00:...|     App|http://charlotten...|      null|  Resid8|     null|      null|      null|      null|  null|   null|  null|null|    null|  null|  null|    null|   null|  null|    null|27867.972106933594| 714.2843890165276|{'lng': -80.85062...|       11.0| 57|                2.0|                 1.0|                null|            25.0|                 1.0|                 4.0|            2.0|            96.0|                 6.0|                4.0|            1.0|            19.0|            35.0|             1.0|             0.0|        3.8|                   8.0|null|               5.0|    2651.0|                       3.0|\n",
      "| 21|2017|427|       427|912.085384119|POLYGON ((-80.803...|  566744|2017-081|Ninety-Eight and ...|     R-5|  B-2(CD)|  CD| no|    none|   NO| 0.38|    0.38| CMUD| CMUD|      YES|       89|null|Corridor|       East|   Sanders_Sonja|Monica Holmes|     Sanders_Sonja|      null|      null|2017/03/27 00:00:...|2017/09/18 00:00:...|     App|http://charlotten...|      null|  Resid5|     null|      null|      null|      null|  null|   null|  null|null|    null|  null|  null|    null|   null|  null|    null| 19864.13928222656| 579.9723509809235|{'lng': -80.80331...|       21.0|117|               10.0|                 2.0|                 3.0|            35.0|                12.0|                 3.0|            2.0|             9.0|                 7.0|                4.0|           26.0|            74.0|            30.0|            61.0|             1.0|        8.1|                   5.0|null|               3.0|    3009.0|                       2.0|\n",
      "| 21|2017|449|       449|912.085384119|POLYGON ((-80.803...|  568882|2017-120|      Flywheel Group|     I-2| TOD-M(O)|  CD| no|    none|   NO|  8.3|     8.3| CMUD| CMUD|      YES|       89|null|Corridor|       East|     Amanda Vari|Monica Holmes|     Sanders_Sonja|      null|      null|2017/07/14 00:00:...|2017/11/20 00:00:...|     App|http://charlotten...|      null|   TOD-M|     null|      null|      null|      null|  null|   null|  null|null|    null|  null|  null|    null|   null|  null|    null|438685.23809814453| 2902.919429661835|{'lng': -80.79254...|       21.0|117|               10.0|                 2.0|                 3.0|            35.0|                12.0|                 3.0|            2.0|             9.0|                 7.0|                4.0|           26.0|            74.0|            30.0|            61.0|             1.0|        8.1|                   5.0|null|               3.0|    3009.0|                       2.0|\n",
      "| 22|2017|465|       465|314.167528415|POLYGON ((-80.808...|  565866|2017-101|Optimist Park Par...|     B-2| TOD-R(O)|  CD| no|    none|   NO| 2.17|    2.17| CMUD| CMUD|      YES|   88,102|null|Corridor|       East|     Amanda Vari|Monica Holmes|     Sanders_Sonja|      null|      null|2017/06/16 00:00:...|2017/12/18 00:00:...|     App|http://charlotten...|      null|   TOD-R|     null|      null|      null|      null|  null|   null|  null|null|    null|  null|  null|    null|   null|  null|    null|22566.134887695312| 603.9580037348387|{'lng': -80.82555...|       22.0|123|                2.0|                 2.0|                 3.0|            11.0|                12.0|                 8.0|            1.0|            40.0|                 4.0|                5.0|            3.0|            27.0|            32.0|            53.0|             2.0|        8.6|                   6.0|null|               4.0|    1345.0|                       4.0|\n",
      "| 22|2017|479|       479|314.167528415|POLYGON ((-80.808...|  567392|2017-101|Optimist Park Par...|     B-1| TOD-R(O)|  CD| no|    none|   NO| 2.17|    2.17| CMUD| CMUD|      YES|   88,102|null|Corridor|       East|     Amanda Vari|Monica Holmes|     Sanders_Sonja|      null|      null|2017/06/16 00:00:...|2017/12/18 00:00:...|     App|http://charlotten...|      null|   TOD-R|     null|      null|      null|      null|  null|   null|  null|null|    null|  null|  null|    null|   null|  null|    null|23286.457580566406| 614.5443458984546|{'lng': -80.82526...|       22.0|123|                2.0|                 2.0|                 3.0|            11.0|                12.0|                 8.0|            1.0|            40.0|                 4.0|                5.0|            3.0|            27.0|            32.0|            53.0|             2.0|        8.6|                   6.0|null|               4.0|    1345.0|                       4.0|\n",
      "| 22|2017|480|       480|314.167528415|POLYGON ((-80.808...|  567435|2017-101|Optimist Park Par...|  R-22MF| TOD-R(O)|  CD| no|    none|   NO| 2.17|    2.17| CMUD| CMUD|      YES|   88,102|null|Corridor|       East|     Amanda Vari|Monica Holmes|     Sanders_Sonja|      null|      null|2017/06/16 00:00:...|2017/12/18 00:00:...|     App|http://charlotten...|      null|   TOD-R|     null|      null|      null|      null|  null|   null|  null|null|    null|  null|  null|    null|   null|  null|    null|44428.798400878906| 860.9171571752611|{'lng': -80.82540...|       22.0|123|                2.0|                 2.0|                 3.0|            11.0|                12.0|                 8.0|            1.0|            40.0|                 4.0|                5.0|            3.0|            27.0|            32.0|            53.0|             2.0|        8.6|                   6.0|null|               4.0|    1345.0|                       4.0|\n",
      "| 22|2017|505|       505|314.167528415|POLYGON ((-80.808...|  569796|2017-101|Optimist Park Par...|     R-8| TOD-R(O)|  CD| no|    none|   NO| 2.17|    2.17| CMUD| CMUD|      YES|   88,102|null|Corridor|       East|     Amanda Vari|Monica Holmes|     Sanders_Sonja|      null|      null|2017/06/16 00:00:...|2017/12/18 00:00:...|     App|http://charlotten...|      null|   TOD-R|     null|      null|      null|      null|  null|   null|  null|null|    null|  null|  null|    null|   null|  null|    null| 31988.44122314453| 717.5713039482242|{'lng': -80.82523...|       22.0|123|                2.0|                 2.0|                 3.0|            11.0|                12.0|                 8.0|            1.0|            40.0|                 4.0|                5.0|            3.0|            27.0|            32.0|            53.0|             2.0|        8.6|                   6.0|null|               4.0|    1345.0|                       4.0|\n",
      "| 22|2017|530|       530|314.167528415|POLYGON ((-80.808...|  571832|2017-068|Hopedale Builders...|     R-5| UR-2(CD)|  CD| no|    none|   NO| 0.41|    0.41| CMUD| CMUD|      YES|       89|null|Corridor|       East|     Amanda Vari|Monica Holmes|     Sanders_Sonja|      null|      null|2017/03/20 00:00:...|2017/07/17 00:00:...|     App|http://charlotten...|      null| Resid17|     null|      null|      null|      null|  null|   null|  null|null|    null|  null|  null|    null|   null|  null|    null| 21119.16522216797| 828.7280886241267|{'lng': -80.81125...|       22.0|123|                2.0|                 2.0|                 3.0|            11.0|                12.0|                 8.0|            1.0|            40.0|                 4.0|                5.0|            3.0|            27.0|            32.0|            53.0|             2.0|        8.6|                   6.0|null|               4.0|    1345.0|                       4.0|\n",
      "| 30|2017|595|       595|476.707317569|POLYGON ((-80.881...|  568708|2017-082|Griffbrew Investm...|     I-2|    TOD-M|  NC| no|    none|   NO| 0.39|    0.39| CMUD| CMUD|      YES|      110|null|Corridor|    Central|   Cornett_Kathy| Goodwin_Alan|   Fortune_Solomon|      null|      null|2017/03/27 00:00:...|2017/07/17 00:00:...|     App|http://charlotten...|      null|   TOD-M|     null|      null|      null|      null|  null|   null|  null|null|    null|  null|  null|    null|   null|  null|    null| 19115.39031982422| 630.0943907559803|{'lng': -80.86897...|       30.0|171|                1.0|                 1.0|                 2.0|            39.0|                 9.0|                 7.0|            0.0|            19.0|                10.0|                3.0|            1.0|            17.0|            25.0|            80.0|             0.0|        3.6|                   1.0|null|               6.0|    2695.0|                       2.0|\n",
      "| 30|2017|602|       602|476.707317569|POLYGON ((-80.881...|  569298|2017-124|Stockbridge 77 Co...|     B-D|  B-2(CD)|  CD| no|    none|   NO| 2.77|    2.77| CMUD| CMUD|      YES|      110|null|Corridor|    Central|   Kathy Cornett| Alan Goodwin|   Fortune_Solomon|      null|      null|2017/07/20 00:00:...|2017/11/20 00:00:...|     App|http://charlotten...|      null|  Retail|     null|      null|      null|      null|  null|   null|  null|null|    null|  null|  null|    null|   null|  null|    null|122148.49871826172|1493.9176422309006|{'lng': -80.88074...|       30.0|171|                1.0|                 1.0|                 2.0|            39.0|                 9.0|                 7.0|            0.0|            19.0|                10.0|                3.0|            1.0|            17.0|            25.0|            80.0|             0.0|        3.6|                   1.0|null|               6.0|    2695.0|                       2.0|\n",
      "| 30|2017|613|       613|476.707317569|POLYGON ((-80.881...|  571573|2017-130|TwentyNine Fiftee...|     I-2|    TOD-M|  NC| no|    none|   NO| 0.42|    0.42| CMUD| CMUD|      YES|      110|null|Corridor|    Central|   Kathy Cornett| Alan Goodwin|   Solomon Fortune|      null|      null|2017/08/08 00:00:...|2017/12/18 00:00:...|     App|http://charlotten...|      null|   TOD-M|     null|      null|      null|      null|  null|   null|  null|null|    null|  null|  null|    null|   null|  null|    null|   20973.287109375| 608.1196731669963|{'lng': -80.86938...|       30.0|171|                1.0|                 1.0|                 2.0|            39.0|                 9.0|                 7.0|            0.0|            19.0|                10.0|                3.0|            1.0|            17.0|            25.0|            80.0|             0.0|        3.6|                   1.0|null|               6.0|    2695.0|                       2.0|\n",
      "| 30|2017|615|       615|476.707317569|POLYGON ((-80.881...|  571844|2017-107|CIP Construction ...|     I-1|   MUDD-O|  CD| no|    none|   NO| 1.25|    1.25| CMUD| CMUD|      YES|      110|null|Corridor|    Central|   Kathy Cornett| Goodwin_Alan|   Fortune_Solomon|      null|      null|2017/06/22 00:00:...|2017/10/16 00:00:...|     App|http://charlotten...|      null|   TOD-M|     null|      null|      null|      null|  null|   null|  null|null|    null|  null|  null|    null|   null|  null|    null| 63458.43896484375|1101.4420479749588|{'lng': -80.87001...|       30.0|171|                1.0|                 1.0|                 2.0|            39.0|                 9.0|                 7.0|            0.0|            19.0|                10.0|                3.0|            1.0|            17.0|            25.0|            80.0|             0.0|        3.6|                   1.0|null|               6.0|    2695.0|                       2.0|\n",
      "| 34|2017|630|       630| 946.09613955|POLYGON ((-80.966...|  565910|2017-187|MAGA Development LLC|     R-4|      R-6|  NC| no|CR/LW-PA|   NO| 79.3|    79.3| CMUD| CMUD|       NO|       66|null|   Wedge|  Northwest|Alberto Gonzalez| Grant Meacci|Claire Lyte-Graham|      null|      null|2017/11/27 00:00:...|2018/03/19 00:00:...|     App|http://charlotten...|      null|  Resid6|     null|      null|      null|      null|  null|   null|  null|null|    null|  null|  null|    null|   null|  null|    null|1212994.2863769531| 4597.038086167841|{'lng': -80.96204...|       34.0|195|               11.0|                 1.0|                 4.0|            17.0|                12.0|                25.0|            0.0|            54.0|                 8.0|                2.0|           13.0|           382.0|            49.0|            33.0|             0.0|       41.1|                   9.0|null|               2.0|    2257.0|                       4.0|\n",
      "+---+----+---+----------+-------------+--------------------+--------+--------+--------------------+--------+---------+----+---+--------+-----+-----+--------+-----+-----+---------+---------+----+--------+-----------+----------------+-------------+------------------+----------+----------+--------------------+--------------------+--------+--------------------+----------+--------+---------+----------+----------+----------+------+-------+------+----+--------+------+------+--------+-------+------+--------+------------------+------------------+--------------------+-----------+---+-------------------+--------------------+--------------------+----------------+--------------------+--------------------+---------------+----------------+--------------------+-------------------+---------------+----------------+----------------+----------------+----------------+-----------+----------------------+----+------------------+----------+--------------------------+\n",
      "only showing top 20 rows\n",
      "\n"
     ]
    }
   ],
   "source": [
    "joined_df.filter(joined_df.year == \"2017\").show()"
   ]
  },
  {
   "cell_type": "code",
   "execution_count": 9,
   "metadata": {
    "colab": {
     "base_uri": "https://localhost:8080/",
     "height": 34
    },
    "colab_type": "code",
    "id": "hZ5Iw5LxCYwe",
    "outputId": "83c5d132-59c6-4b20-aac3-626609b0d841"
   },
   "outputs": [
    {
     "data": {
      "text/plain": [
       "6206"
      ]
     },
     "execution_count": 9,
     "metadata": {
      "tags": []
     },
     "output_type": "execute_result"
    }
   ],
   "source": [
    "joined_df.count()"
   ]
  },
  {
   "cell_type": "code",
   "execution_count": null,
   "metadata": {
    "colab": {},
    "colab_type": "code",
    "id": "FwUPvARzClMD"
   },
   "outputs": [],
   "source": []
  }
 ],
 "metadata": {
  "colab": {
   "collapsed_sections": [],
   "name": "S3_character_dataframe_merge.ipynb",
   "provenance": []
  },
  "kernelspec": {
   "display_name": "Python 3",
   "language": "python",
   "name": "python3"
  },
  "language_info": {
   "codemirror_mode": {
    "name": "ipython",
    "version": 3
   },
   "file_extension": ".py",
   "mimetype": "text/x-python",
   "name": "python",
   "nbconvert_exporter": "python",
   "pygments_lexer": "ipython3",
   "version": "3.7.6"
  }
 },
 "nbformat": 4,
 "nbformat_minor": 1
}
