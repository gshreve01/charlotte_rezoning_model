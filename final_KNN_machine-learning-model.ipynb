{
 "cells": [
  {
   "cell_type": "code",
   "execution_count": 2,
   "metadata": {},
   "outputs": [],
   "source": [
    "import warnings\n",
    "warnings.simplefilter('ignore')\n",
    "\n",
    "# %matplotlib inline\n",
    "import matplotlib.pyplot as plt\n",
    "import numpy as np\n",
    "import pandas as pd"
   ]
  },
  {
   "cell_type": "code",
   "execution_count": 3,
   "metadata": {},
   "outputs": [],
   "source": [
    "clean_df = pd.read_csv('Resources/Final_Clean.csv')"
   ]
  },
  {
   "cell_type": "code",
   "execution_count": 4,
   "metadata": {},
   "outputs": [],
   "source": [
    "clean_df.head()\n",
    "clean_df = clean_df.drop(columns=['Unnamed: 0','Unnamed: 0.1'])"
   ]
  },
  {
   "cell_type": "code",
   "execution_count": 5,
   "metadata": {},
   "outputs": [
    {
     "data": {
      "text/html": [
       "<div>\n",
       "<style scoped>\n",
       "    .dataframe tbody tr th:only-of-type {\n",
       "        vertical-align: middle;\n",
       "    }\n",
       "\n",
       "    .dataframe tbody tr th {\n",
       "        vertical-align: top;\n",
       "    }\n",
       "\n",
       "    .dataframe thead th {\n",
       "        text-align: right;\n",
       "    }\n",
       "</style>\n",
       "<table border=\"1\" class=\"dataframe\">\n",
       "  <thead>\n",
       "    <tr style=\"text-align: right;\">\n",
       "      <th></th>\n",
       "      <th>NPA</th>\n",
       "      <th>year</th>\n",
       "      <th>Petitioner</th>\n",
       "      <th>FromZone</th>\n",
       "      <th>ToZone</th>\n",
       "      <th>Type</th>\n",
       "      <th>SPA</th>\n",
       "      <th>INNOV</th>\n",
       "      <th>Acres</th>\n",
       "      <th>Water</th>\n",
       "      <th>...</th>\n",
       "      <th>student_absenteeism</th>\n",
       "      <th>voters_participating</th>\n",
       "      <th>neighborhood_organizations</th>\n",
       "      <th>voter_participation</th>\n",
       "      <th>vacant_land</th>\n",
       "      <th>population_density</th>\n",
       "      <th>population</th>\n",
       "      <th>transit_ridership</th>\n",
       "      <th>street_connectivity</th>\n",
       "      <th>bicycle_friendliness</th>\n",
       "    </tr>\n",
       "  </thead>\n",
       "  <tbody>\n",
       "    <tr>\n",
       "      <th>0</th>\n",
       "      <td>2</td>\n",
       "      <td>2020</td>\n",
       "      <td>Alenky Signature Homes LLC</td>\n",
       "      <td>R-4</td>\n",
       "      <td>R-8</td>\n",
       "      <td>NC</td>\n",
       "      <td>no</td>\n",
       "      <td>NO</td>\n",
       "      <td>0.398</td>\n",
       "      <td>CMUD</td>\n",
       "      <td>...</td>\n",
       "      <td>12.666667</td>\n",
       "      <td>756.333333</td>\n",
       "      <td>2.0</td>\n",
       "      <td>61.333333</td>\n",
       "      <td>4.3</td>\n",
       "      <td>5.0</td>\n",
       "      <td>2240.0</td>\n",
       "      <td>43.0</td>\n",
       "      <td>1.2</td>\n",
       "      <td>1.5</td>\n",
       "    </tr>\n",
       "    <tr>\n",
       "      <th>1</th>\n",
       "      <td>2</td>\n",
       "      <td>2019</td>\n",
       "      <td>Mark Heisig</td>\n",
       "      <td>O-2</td>\n",
       "      <td>R-4</td>\n",
       "      <td>NC</td>\n",
       "      <td>no</td>\n",
       "      <td>NO</td>\n",
       "      <td>0.330</td>\n",
       "      <td>CMUD</td>\n",
       "      <td>...</td>\n",
       "      <td>12.666667</td>\n",
       "      <td>756.333333</td>\n",
       "      <td>2.0</td>\n",
       "      <td>61.333333</td>\n",
       "      <td>4.3</td>\n",
       "      <td>5.0</td>\n",
       "      <td>2240.0</td>\n",
       "      <td>43.0</td>\n",
       "      <td>1.2</td>\n",
       "      <td>1.5</td>\n",
       "    </tr>\n",
       "    <tr>\n",
       "      <th>2</th>\n",
       "      <td>2</td>\n",
       "      <td>2014</td>\n",
       "      <td>Eastway II Holdings, LLC</td>\n",
       "      <td>BD(CD)</td>\n",
       "      <td>BD(CD)</td>\n",
       "      <td>CD</td>\n",
       "      <td>SPA</td>\n",
       "      <td>NO</td>\n",
       "      <td>3.050</td>\n",
       "      <td>CMUD</td>\n",
       "      <td>...</td>\n",
       "      <td>11.500000</td>\n",
       "      <td>603.000000</td>\n",
       "      <td>2.0</td>\n",
       "      <td>54.000000</td>\n",
       "      <td>4.3</td>\n",
       "      <td>5.0</td>\n",
       "      <td>2240.0</td>\n",
       "      <td>43.0</td>\n",
       "      <td>1.2</td>\n",
       "      <td>1.5</td>\n",
       "    </tr>\n",
       "    <tr>\n",
       "      <th>3</th>\n",
       "      <td>2</td>\n",
       "      <td>2014</td>\n",
       "      <td>Eastway II Holdings, LLC</td>\n",
       "      <td>B-1SCD</td>\n",
       "      <td>BD(CD)</td>\n",
       "      <td>CD</td>\n",
       "      <td>no</td>\n",
       "      <td>NO</td>\n",
       "      <td>3.740</td>\n",
       "      <td>CMUD</td>\n",
       "      <td>...</td>\n",
       "      <td>11.500000</td>\n",
       "      <td>603.000000</td>\n",
       "      <td>2.0</td>\n",
       "      <td>54.000000</td>\n",
       "      <td>4.3</td>\n",
       "      <td>5.0</td>\n",
       "      <td>2240.0</td>\n",
       "      <td>43.0</td>\n",
       "      <td>1.2</td>\n",
       "      <td>1.5</td>\n",
       "    </tr>\n",
       "    <tr>\n",
       "      <th>4</th>\n",
       "      <td>2</td>\n",
       "      <td>2016</td>\n",
       "      <td>Dr. Michael Berglass, DDS</td>\n",
       "      <td>UR-C(CD)</td>\n",
       "      <td>UR-C(CD)</td>\n",
       "      <td>CD</td>\n",
       "      <td>SPA</td>\n",
       "      <td>NO</td>\n",
       "      <td>0.440</td>\n",
       "      <td>CMUD</td>\n",
       "      <td>...</td>\n",
       "      <td>15.000000</td>\n",
       "      <td>1063.000000</td>\n",
       "      <td>2.0</td>\n",
       "      <td>76.000000</td>\n",
       "      <td>4.3</td>\n",
       "      <td>5.0</td>\n",
       "      <td>2240.0</td>\n",
       "      <td>43.0</td>\n",
       "      <td>1.2</td>\n",
       "      <td>1.5</td>\n",
       "    </tr>\n",
       "  </tbody>\n",
       "</table>\n",
       "<p>5 rows × 44 columns</p>\n",
       "</div>"
      ],
      "text/plain": [
       "   NPA  year                  Petitioner  FromZone    ToZone Type  SPA INNOV  \\\n",
       "0    2  2020  Alenky Signature Homes LLC       R-4       R-8   NC   no    NO   \n",
       "1    2  2019                 Mark Heisig       O-2       R-4   NC   no    NO   \n",
       "2    2  2014    Eastway II Holdings, LLC    BD(CD)    BD(CD)   CD  SPA    NO   \n",
       "3    2  2014    Eastway II Holdings, LLC    B-1SCD    BD(CD)   CD   no    NO   \n",
       "4    2  2016   Dr. Michael Berglass, DDS  UR-C(CD)  UR-C(CD)   CD  SPA    NO   \n",
       "\n",
       "   Acres Water  ... student_absenteeism voters_participating  \\\n",
       "0  0.398  CMUD  ...           12.666667           756.333333   \n",
       "1  0.330  CMUD  ...           12.666667           756.333333   \n",
       "2  3.050  CMUD  ...           11.500000           603.000000   \n",
       "3  3.740  CMUD  ...           11.500000           603.000000   \n",
       "4  0.440  CMUD  ...           15.000000          1063.000000   \n",
       "\n",
       "  neighborhood_organizations voter_participation vacant_land  \\\n",
       "0                        2.0           61.333333         4.3   \n",
       "1                        2.0           61.333333         4.3   \n",
       "2                        2.0           54.000000         4.3   \n",
       "3                        2.0           54.000000         4.3   \n",
       "4                        2.0           76.000000         4.3   \n",
       "\n",
       "  population_density population transit_ridership street_connectivity  \\\n",
       "0                5.0     2240.0              43.0                 1.2   \n",
       "1                5.0     2240.0              43.0                 1.2   \n",
       "2                5.0     2240.0              43.0                 1.2   \n",
       "3                5.0     2240.0              43.0                 1.2   \n",
       "4                5.0     2240.0              43.0                 1.2   \n",
       "\n",
       "  bicycle_friendliness  \n",
       "0                  1.5  \n",
       "1                  1.5  \n",
       "2                  1.5  \n",
       "3                  1.5  \n",
       "4                  1.5  \n",
       "\n",
       "[5 rows x 44 columns]"
      ]
     },
     "execution_count": 5,
     "metadata": {},
     "output_type": "execute_result"
    }
   ],
   "source": [
    "clean_df.head()"
   ]
  },
  {
   "cell_type": "code",
   "execution_count": 6,
   "metadata": {},
   "outputs": [
    {
     "data": {
      "text/plain": [
       "NPA                               1757\n",
       "year                              1757\n",
       "Petitioner                        1756\n",
       "FromZone                          1757\n",
       "ToZone                            1756\n",
       "Type                              1756\n",
       "SPA                               1755\n",
       "INNOV                             1678\n",
       "Acres                             1757\n",
       "Water                             1735\n",
       "Sewer                             1736\n",
       "CityLimit                         1748\n",
       "CCW                               1715\n",
       "ServiceArea                       1712\n",
       "LuseStaff                         1705\n",
       "UrbanDesign                       1713\n",
       "RezoneStaff                       1662\n",
       "Received                          1751\n",
       "Approved                          1600\n",
       "Decision                          1754\n",
       "births_to_adolescents             1757\n",
       "grocery_proximate_units           1757\n",
       "prenatal_care                     1757\n",
       "grocery_proximity                 1757\n",
       "low_birthweight                   1757\n",
       "public_health_insurance           1757\n",
       "age_of_death                      1757\n",
       "impervious_surface                1757\n",
       "water_consumption                 1757\n",
       "neighborhood_school_attendance    1757\n",
       "highschool_graduation_rate        1757\n",
       "proficiency_elementary_school     1757\n",
       "proficiency_middle_school         1757\n",
       "proficiency_high_school           1757\n",
       "student_absenteeism               1757\n",
       "voters_participating              1757\n",
       "neighborhood_organizations        1757\n",
       "voter_participation               1757\n",
       "vacant_land                       1757\n",
       "population_density                1757\n",
       "population                        1757\n",
       "transit_ridership                 1757\n",
       "street_connectivity               1757\n",
       "bicycle_friendliness              1757\n",
       "dtype: int64"
      ]
     },
     "execution_count": 6,
     "metadata": {},
     "output_type": "execute_result"
    }
   ],
   "source": [
    "clean_df.dtypes\n",
    "clean_df.count()\n"
   ]
  },
  {
   "cell_type": "code",
   "execution_count": 7,
   "metadata": {},
   "outputs": [
    {
     "name": "stdout",
     "output_type": "stream",
     "text": [
      "['NPA', 'year', 'Petitioner', 'FromZone', 'ToZone', 'Type', 'SPA', 'INNOV', 'Acres', 'Water', 'Sewer', 'CityLimit', 'CCW', 'ServiceArea', 'LuseStaff', 'UrbanDesign', 'RezoneStaff', 'Received', 'Approved', 'Decision', 'births_to_adolescents', 'grocery_proximate_units', 'prenatal_care', 'grocery_proximity', 'low_birthweight', 'public_health_insurance', 'age_of_death', 'impervious_surface', 'water_consumption', 'neighborhood_school_attendance', 'highschool_graduation_rate', 'proficiency_elementary_school', 'proficiency_middle_school', 'proficiency_high_school', 'student_absenteeism', 'voters_participating', 'neighborhood_organizations', 'voter_participation', 'vacant_land', 'population_density', 'population', 'transit_ridership', 'street_connectivity', 'bicycle_friendliness']\n"
     ]
    },
    {
     "data": {
      "text/plain": [
       "44"
      ]
     },
     "execution_count": 7,
     "metadata": {},
     "output_type": "execute_result"
    }
   ],
   "source": [
    "column_names = list(clean_df.columns.values)\n",
    "print(column_names)\n",
    "len(column_names)"
   ]
  },
  {
   "cell_type": "code",
   "execution_count": 8,
   "metadata": {},
   "outputs": [],
   "source": [
    "#catagorical_columns drop 'Decision', which will be our Target\n",
    "catagorical_columns = ['NPA', 'year', 'Petitioner', 'FromZone', 'ToZone', 'Type', 'SPA', 'INNOV', 'Water', 'Sewer', 'CityLimit', 'CCW', 'ServiceArea', 'LuseStaff', 'UrbanDesign', 'RezoneStaff', 'Received', 'Approved']\n",
    "numberic_columns = ['Acres', 'births_to_adolescents', 'grocery_proximate_units', 'prenatal_care', 'grocery_proximity',\n",
    "                  'low_birthweight', 'public_health_insurance', 'age_of_death', 'impervious_surface',\n",
    "                  'water_consumption', 'neighborhood_school_attendance', 'highschool_graduation_rate', \n",
    "                   'proficiency_elementary_school', 'proficiency_middle_school', 'proficiency_high_school',\n",
    "                   'student_absenteeism', 'voters_participating', 'neighborhood_organizations',\n",
    "                   'voter_participation', 'vacant_land', 'population_density', 'population', 'transit_ridership',\n",
    "                   'street_connectivity', 'bicycle_friendliness']\n",
    "all_columns = ['NPA', 'year', 'Petitioner', 'FromZone', 'ToZone', 'Type', 'SPA', 'INNOV', 'Acres', 'Water', 'Sewer', 'CityLimit', 'CCW', 'ServiceArea', 'LuseStaff', 'UrbanDesign', 'RezoneStaff', 'Received', 'Approved', 'Decision', 'births_to_adolescents', 'grocery_proximate_units', 'prenatal_care', 'grocery_proximity', 'low_birthweight', 'public_health_insurance', 'age_of_death', 'impervious_surface', 'water_consumption', 'neighborhood_school_attendance', 'highschool_graduation_rate', 'proficiency_elementary_school', 'proficiency_middle_school', 'proficiency_high_school', 'student_absenteeism', 'voters_participating', 'neighborhood_organizations', 'voter_participation', 'vacant_land', 'population_density', 'population', 'transit_ridership', 'street_connectivity', 'bicycle_friendliness']\n",
    "\n"
   ]
  },
  {
   "cell_type": "code",
   "execution_count": 9,
   "metadata": {},
   "outputs": [
    {
     "name": "stdout",
     "output_type": "stream",
     "text": [
      "18\n",
      "25\n",
      "______\n",
      "43\n",
      "______\n",
      "44\n"
     ]
    }
   ],
   "source": [
    "print(len(catagorical_columns))\n",
    "print(len(numberic_columns))\n",
    "print(\"______\")\n",
    "print(len(catagorical_columns)+len(numberic_columns))\n",
    "print(\"______\")\n",
    "print(len(clean_df.columns))"
   ]
  },
  {
   "cell_type": "code",
   "execution_count": 10,
   "metadata": {},
   "outputs": [],
   "source": [
    "y = clean_df[['Decision']]\n",
    "y.fillna(\"UKN\", inplace=True)"
   ]
  },
  {
   "cell_type": "code",
   "execution_count": 11,
   "metadata": {},
   "outputs": [
    {
     "data": {
      "text/plain": [
       "array(['App', 'Def', 'Den', 'UKN', 'Wd'], dtype=object)"
      ]
     },
     "execution_count": 11,
     "metadata": {},
     "output_type": "execute_result"
    }
   ],
   "source": [
    "from sklearn.preprocessing import LabelEncoder\n",
    "label_encoder = LabelEncoder()\n",
    "\n",
    "label_encoder.fit(y)\n",
    "label_encoder.classes_"
   ]
  },
  {
   "cell_type": "code",
   "execution_count": 12,
   "metadata": {},
   "outputs": [],
   "source": [
    "encoded_y = label_encoder.transform(y)"
   ]
  },
  {
   "cell_type": "code",
   "execution_count": 13,
   "metadata": {},
   "outputs": [
    {
     "name": "stdout",
     "output_type": "stream",
     "text": [
      "[0 0 0 ... 0 0 0]\n"
     ]
    }
   ],
   "source": [
    "print(encoded_y)"
   ]
  },
  {
   "cell_type": "code",
   "execution_count": 14,
   "metadata": {},
   "outputs": [],
   "source": [
    "clean_drop_df = clean_df.drop(['Decision'], axis=1)"
   ]
  },
  {
   "cell_type": "code",
   "execution_count": 15,
   "metadata": {},
   "outputs": [
    {
     "data": {
      "text/html": [
       "<div>\n",
       "<style scoped>\n",
       "    .dataframe tbody tr th:only-of-type {\n",
       "        vertical-align: middle;\n",
       "    }\n",
       "\n",
       "    .dataframe tbody tr th {\n",
       "        vertical-align: top;\n",
       "    }\n",
       "\n",
       "    .dataframe thead th {\n",
       "        text-align: right;\n",
       "    }\n",
       "</style>\n",
       "<table border=\"1\" class=\"dataframe\">\n",
       "  <thead>\n",
       "    <tr style=\"text-align: right;\">\n",
       "      <th></th>\n",
       "      <th>Acres</th>\n",
       "      <th>births_to_adolescents</th>\n",
       "      <th>grocery_proximate_units</th>\n",
       "      <th>prenatal_care</th>\n",
       "      <th>grocery_proximity</th>\n",
       "      <th>low_birthweight</th>\n",
       "      <th>public_health_insurance</th>\n",
       "      <th>age_of_death</th>\n",
       "      <th>impervious_surface</th>\n",
       "      <th>water_consumption</th>\n",
       "      <th>...</th>\n",
       "      <th>Approved_2020/04/20 00:00:00+00</th>\n",
       "      <th>Approved_2020/05/18 00:00:00+00</th>\n",
       "      <th>Approved_2020/05/18 16:02:33+00</th>\n",
       "      <th>Approved_2020/05/18 16:18:00+00</th>\n",
       "      <th>Approved_2020/05/18 16:38:34+00</th>\n",
       "      <th>Approved_2020/05/18 16:38:48+00</th>\n",
       "      <th>Approved_2020/05/18 16:46:28+00</th>\n",
       "      <th>Approved_2020/05/18 16:48:49+00</th>\n",
       "      <th>Approved_2020/06/15 00:00:00+00</th>\n",
       "      <th>Approved_2020/07/20 00:00:00+00</th>\n",
       "    </tr>\n",
       "  </thead>\n",
       "  <tbody>\n",
       "    <tr>\n",
       "      <th>0</th>\n",
       "      <td>0.398</td>\n",
       "      <td>3.166667</td>\n",
       "      <td>204.333333</td>\n",
       "      <td>70.466667</td>\n",
       "      <td>19.0</td>\n",
       "      <td>17.733333</td>\n",
       "      <td>13.0</td>\n",
       "      <td>68.666667</td>\n",
       "      <td>22.2</td>\n",
       "      <td>112.333333</td>\n",
       "      <td>...</td>\n",
       "      <td>0</td>\n",
       "      <td>0</td>\n",
       "      <td>0</td>\n",
       "      <td>0</td>\n",
       "      <td>0</td>\n",
       "      <td>0</td>\n",
       "      <td>0</td>\n",
       "      <td>0</td>\n",
       "      <td>0</td>\n",
       "      <td>1</td>\n",
       "    </tr>\n",
       "    <tr>\n",
       "      <th>1</th>\n",
       "      <td>0.330</td>\n",
       "      <td>3.166667</td>\n",
       "      <td>204.333333</td>\n",
       "      <td>70.466667</td>\n",
       "      <td>19.0</td>\n",
       "      <td>17.733333</td>\n",
       "      <td>13.0</td>\n",
       "      <td>68.666667</td>\n",
       "      <td>22.2</td>\n",
       "      <td>112.333333</td>\n",
       "      <td>...</td>\n",
       "      <td>0</td>\n",
       "      <td>0</td>\n",
       "      <td>0</td>\n",
       "      <td>0</td>\n",
       "      <td>0</td>\n",
       "      <td>0</td>\n",
       "      <td>0</td>\n",
       "      <td>0</td>\n",
       "      <td>0</td>\n",
       "      <td>0</td>\n",
       "    </tr>\n",
       "    <tr>\n",
       "      <th>2</th>\n",
       "      <td>3.050</td>\n",
       "      <td>1.400000</td>\n",
       "      <td>204.000000</td>\n",
       "      <td>75.700000</td>\n",
       "      <td>19.0</td>\n",
       "      <td>21.600000</td>\n",
       "      <td>13.0</td>\n",
       "      <td>68.000000</td>\n",
       "      <td>22.2</td>\n",
       "      <td>112.000000</td>\n",
       "      <td>...</td>\n",
       "      <td>0</td>\n",
       "      <td>0</td>\n",
       "      <td>0</td>\n",
       "      <td>0</td>\n",
       "      <td>0</td>\n",
       "      <td>0</td>\n",
       "      <td>0</td>\n",
       "      <td>0</td>\n",
       "      <td>0</td>\n",
       "      <td>0</td>\n",
       "    </tr>\n",
       "    <tr>\n",
       "      <th>3</th>\n",
       "      <td>3.740</td>\n",
       "      <td>1.400000</td>\n",
       "      <td>204.000000</td>\n",
       "      <td>75.700000</td>\n",
       "      <td>19.0</td>\n",
       "      <td>21.600000</td>\n",
       "      <td>13.0</td>\n",
       "      <td>68.000000</td>\n",
       "      <td>22.2</td>\n",
       "      <td>112.000000</td>\n",
       "      <td>...</td>\n",
       "      <td>0</td>\n",
       "      <td>0</td>\n",
       "      <td>0</td>\n",
       "      <td>0</td>\n",
       "      <td>0</td>\n",
       "      <td>0</td>\n",
       "      <td>0</td>\n",
       "      <td>0</td>\n",
       "      <td>0</td>\n",
       "      <td>0</td>\n",
       "    </tr>\n",
       "    <tr>\n",
       "      <th>4</th>\n",
       "      <td>0.440</td>\n",
       "      <td>6.700000</td>\n",
       "      <td>205.000000</td>\n",
       "      <td>60.000000</td>\n",
       "      <td>19.0</td>\n",
       "      <td>10.000000</td>\n",
       "      <td>13.0</td>\n",
       "      <td>70.000000</td>\n",
       "      <td>22.2</td>\n",
       "      <td>113.000000</td>\n",
       "      <td>...</td>\n",
       "      <td>0</td>\n",
       "      <td>0</td>\n",
       "      <td>0</td>\n",
       "      <td>0</td>\n",
       "      <td>0</td>\n",
       "      <td>0</td>\n",
       "      <td>0</td>\n",
       "      <td>0</td>\n",
       "      <td>0</td>\n",
       "      <td>0</td>\n",
       "    </tr>\n",
       "  </tbody>\n",
       "</table>\n",
       "<p>5 rows × 2076 columns</p>\n",
       "</div>"
      ],
      "text/plain": [
       "   Acres  births_to_adolescents  grocery_proximate_units  prenatal_care  \\\n",
       "0  0.398               3.166667               204.333333      70.466667   \n",
       "1  0.330               3.166667               204.333333      70.466667   \n",
       "2  3.050               1.400000               204.000000      75.700000   \n",
       "3  3.740               1.400000               204.000000      75.700000   \n",
       "4  0.440               6.700000               205.000000      60.000000   \n",
       "\n",
       "   grocery_proximity  low_birthweight  public_health_insurance  age_of_death  \\\n",
       "0               19.0        17.733333                     13.0     68.666667   \n",
       "1               19.0        17.733333                     13.0     68.666667   \n",
       "2               19.0        21.600000                     13.0     68.000000   \n",
       "3               19.0        21.600000                     13.0     68.000000   \n",
       "4               19.0        10.000000                     13.0     70.000000   \n",
       "\n",
       "   impervious_surface  water_consumption  ...  \\\n",
       "0                22.2         112.333333  ...   \n",
       "1                22.2         112.333333  ...   \n",
       "2                22.2         112.000000  ...   \n",
       "3                22.2         112.000000  ...   \n",
       "4                22.2         113.000000  ...   \n",
       "\n",
       "   Approved_2020/04/20 00:00:00+00  Approved_2020/05/18 00:00:00+00  \\\n",
       "0                                0                                0   \n",
       "1                                0                                0   \n",
       "2                                0                                0   \n",
       "3                                0                                0   \n",
       "4                                0                                0   \n",
       "\n",
       "   Approved_2020/05/18 16:02:33+00  Approved_2020/05/18 16:18:00+00  \\\n",
       "0                                0                                0   \n",
       "1                                0                                0   \n",
       "2                                0                                0   \n",
       "3                                0                                0   \n",
       "4                                0                                0   \n",
       "\n",
       "   Approved_2020/05/18 16:38:34+00  Approved_2020/05/18 16:38:48+00  \\\n",
       "0                                0                                0   \n",
       "1                                0                                0   \n",
       "2                                0                                0   \n",
       "3                                0                                0   \n",
       "4                                0                                0   \n",
       "\n",
       "   Approved_2020/05/18 16:46:28+00  Approved_2020/05/18 16:48:49+00  \\\n",
       "0                                0                                0   \n",
       "1                                0                                0   \n",
       "2                                0                                0   \n",
       "3                                0                                0   \n",
       "4                                0                                0   \n",
       "\n",
       "   Approved_2020/06/15 00:00:00+00  Approved_2020/07/20 00:00:00+00  \n",
       "0                                0                                1  \n",
       "1                                0                                0  \n",
       "2                                0                                0  \n",
       "3                                0                                0  \n",
       "4                                0                                0  \n",
       "\n",
       "[5 rows x 2076 columns]"
      ]
     },
     "execution_count": 15,
     "metadata": {},
     "output_type": "execute_result"
    }
   ],
   "source": [
    "#Dummy Encode Catagorical Data\n",
    "\n",
    "X = pd.get_dummies(clean_drop_df, columns=catagorical_columns)\n",
    "X.head()"
   ]
  },
  {
   "cell_type": "code",
   "execution_count": 16,
   "metadata": {},
   "outputs": [
    {
     "name": "stdout",
     "output_type": "stream",
     "text": [
      "(1757, 2076) (1757,)\n"
     ]
    }
   ],
   "source": [
    "print(X.shape, encoded_y.shape)\n"
   ]
  },
  {
   "cell_type": "code",
   "execution_count": 17,
   "metadata": {},
   "outputs": [
    {
     "name": "stdout",
     "output_type": "stream",
     "text": [
      "       Acres  births_to_adolescents  grocery_proximate_units  prenatal_care  \\\n",
      "1027  371.00                    3.9                 0.000000           65.4   \n",
      "842     0.33                    4.6               242.666667           40.9   \n",
      "757     1.25                    0.0                90.428571           50.6   \n",
      "218     1.23                    2.8               109.000000           52.8   \n",
      "1131   47.49                    0.0                 0.000000           85.7   \n",
      "\n",
      "      grocery_proximity  low_birthweight  public_health_insurance  \\\n",
      "1027           0.000000              3.8                     22.0   \n",
      "842           75.333333             18.2                     58.5   \n",
      "757            8.571429             23.6                     39.0   \n",
      "218           18.000000             13.9                     -1.0   \n",
      "1131           0.000000              0.0                      1.0   \n",
      "\n",
      "      age_of_death  impervious_surface  water_consumption  ...  \\\n",
      "1027          -1.0            2.400000               54.0  ...   \n",
      "842           59.0           33.050000               96.0  ...   \n",
      "757           53.0           19.142857              142.0  ...   \n",
      "218           66.0            4.300000              152.0  ...   \n",
      "1131          83.0            4.700000              327.0  ...   \n",
      "\n",
      "      Approved_2020/04/20 00:00:00+00  Approved_2020/05/18 00:00:00+00  \\\n",
      "1027                                0                                0   \n",
      "842                                 0                                0   \n",
      "757                                 0                                0   \n",
      "218                                 0                                0   \n",
      "1131                                0                                0   \n",
      "\n",
      "      Approved_2020/05/18 16:02:33+00  Approved_2020/05/18 16:18:00+00  \\\n",
      "1027                                0                                0   \n",
      "842                                 0                                0   \n",
      "757                                 0                                0   \n",
      "218                                 0                                0   \n",
      "1131                                0                                0   \n",
      "\n",
      "      Approved_2020/05/18 16:38:34+00  Approved_2020/05/18 16:38:48+00  \\\n",
      "1027                                0                                0   \n",
      "842                                 0                                0   \n",
      "757                                 0                                0   \n",
      "218                                 0                                0   \n",
      "1131                                0                                0   \n",
      "\n",
      "      Approved_2020/05/18 16:46:28+00  Approved_2020/05/18 16:48:49+00  \\\n",
      "1027                                0                                0   \n",
      "842                                 0                                0   \n",
      "757                                 0                                0   \n",
      "218                                 0                                0   \n",
      "1131                                0                                0   \n",
      "\n",
      "      Approved_2020/06/15 00:00:00+00  Approved_2020/07/20 00:00:00+00  \n",
      "1027                                0                                0  \n",
      "842                                 0                                0  \n",
      "757                                 0                                0  \n",
      "218                                 0                                0  \n",
      "1131                                0                                0  \n",
      "\n",
      "[5 rows x 2076 columns]\n"
     ]
    }
   ],
   "source": [
    "from sklearn.model_selection import train_test_split\n",
    "\n",
    "X_train, X_test, y_train, y_test = train_test_split(X, encoded_y, random_state=42)\n",
    "\n",
    "print(X_train.head())\n",
    "#print(y_train[0:5])"
   ]
  },
  {
   "cell_type": "code",
   "execution_count": 76,
   "metadata": {},
   "outputs": [],
   "source": [
    "from sklearn.preprocessing import StandardScaler\n",
    "X_scaler = StandardScaler().fit(X_train)\n",
    "\n",
    "X_train_scaled = X_scaler.transform(X_train)\n",
    "X_test_scaled = X_scaler.transform(X_test)"
   ]
  },
  {
   "cell_type": "code",
   "execution_count": 77,
   "metadata": {},
   "outputs": [],
   "source": [
    "from sklearn.neighbors import KNeighborsClassifier\n",
    "import matplotlib.pyplot as plt"
   ]
  },
  {
   "cell_type": "code",
   "execution_count": 78,
   "metadata": {},
   "outputs": [
    {
     "name": "stdout",
     "output_type": "stream",
     "text": [
      "k: 1, Train/Test Score: 1.000/0.950\n",
      "k: 3, Train/Test Score: 0.944/0.920\n",
      "k: 5, Train/Test Score: 0.922/0.925\n",
      "k: 7, Train/Test Score: 0.919/0.923\n",
      "k: 9, Train/Test Score: 0.916/0.923\n",
      "k: 11, Train/Test Score: 0.916/0.923\n",
      "k: 13, Train/Test Score: 0.916/0.923\n",
      "k: 15, Train/Test Score: 0.916/0.923\n",
      "k: 17, Train/Test Score: 0.910/0.923\n",
      "k: 19, Train/Test Score: 0.910/0.923\n"
     ]
    },
    {
     "data": {
      "image/png": "[encoded data removed]",
      "text/plain": [
       "<Figure size 432x288 with 1 Axes>"
      ]
     },
     "metadata": {
      "needs_background": "light"
     },
     "output_type": "display_data"
    }
   ],
   "source": [
    "# Loop through different k values to see which has the highest accuracy\n",
    "# Note: We only use odd numbers because we don't want any ties\n",
    "train_scores = []\n",
    "test_scores = []\n",
    "for k in range(1, 20, 2):\n",
    "    knn = KNeighborsClassifier(n_neighbors=k)\n",
    "    knn.fit(X_train_scaled, y_train)\n",
    "    train_score = knn.score(X_train_scaled, y_train)\n",
    "    test_score = knn.score(X_test_scaled, y_test)\n",
    "    train_scores.append(train_score)\n",
    "    test_scores.append(test_score)\n",
    "    print(f\"k: {k}, Train/Test Score: {train_score:.3f}/{test_score:.3f}\")\n",
    "    \n",
    "    \n",
    "plt.plot(range(1, 20, 2), train_scores, marker='o')\n",
    "plt.plot(range(1, 20, 2), test_scores, marker=\"x\")\n",
    "plt.xlabel(\"k neighbors\")\n",
    "plt.ylabel(\"Testing accuracy Score\")\n",
    "plt.show()"
   ]
  },
  {
   "cell_type": "code",
   "execution_count": 79,
   "metadata": {},
   "outputs": [
    {
     "name": "stdout",
     "output_type": "stream",
     "text": [
      "k=5 Test Acc: 0.925\n"
     ]
    }
   ],
   "source": [
    "# Note that k: 5 provides the best accuracy where the classifier starts to stablize\n",
    "knn = KNeighborsClassifier(n_neighbors=5)\n",
    "knn.fit(X_train_scaled, y_train)\n",
    "print('k=5 Test Acc: %.3f' % knn.score(X_test_scaled, y_test))"
   ]
  }
 ],
 "metadata": {
  "kernelspec": {
   "display_name": "Python 3",
   "language": "python",
   "name": "python3"
  },
  "language_info": {
   "codemirror_mode": {
    "name": "ipython",
    "version": 3
   },
   "file_extension": ".py",
   "mimetype": "text/x-python",
   "name": "python",
   "nbconvert_exporter": "python",
   "pygments_lexer": "ipython3",
   "version": "3.7.6"
  },
  "varInspector": {
   "cols": {
    "lenName": 16,
    "lenType": 16,
    "lenVar": 40
   },
   "kernels_config": {
    "python": {
     "delete_cmd_postfix": "",
     "delete_cmd_prefix": "del ",
     "library": "var_list.py",
     "varRefreshCmd": "print(var_dic_list())"
    },
    "r": {
     "delete_cmd_postfix": ") ",
     "delete_cmd_prefix": "rm(",
     "library": "var_list.r",
     "varRefreshCmd": "cat(var_dic_list()) "
    }
   },
   "types_to_exclude": [
    "module",
    "function",
    "builtin_function_or_method",
    "instance",
    "_Feature"
   ],
   "window_display": false
  }
 },
 "nbformat": 4,
 "nbformat_minor": 4
}
