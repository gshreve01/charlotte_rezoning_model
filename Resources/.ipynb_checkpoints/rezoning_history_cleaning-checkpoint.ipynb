{
 "cells": [
  {
   "cell_type": "code",
   "execution_count": 37,
   "metadata": {},
   "outputs": [],
   "source": [
    "import pandas as pd\n",
    "import geopandas as gpd\n",
    "import requests\n",
    "import os\n",
    "import csv\n",
    "from ast import literal_eval\n",
    "\n",
    "pd.options.display.max_columns = 50 #number of columns to display"
   ]
  },
  {
   "cell_type": "code",
   "execution_count": 38,
   "metadata": {},
   "outputs": [],
   "source": [
    "csvPath = os.path.join('rezoning_history.csv')"
   ]
  },
  {
   "cell_type": "code",
   "execution_count": 39,
   "metadata": {
    "scrolled": true
   },
   "outputs": [],
   "source": [
    "df = pd.read_csv(csvPath)\n",
    "df[\"lat\"] = df[\"centroid\"].map(lambda c: literal_eval(c)[\"lat\"])\n",
    "df[\"lng\"] = df[\"centroid\"].map(lambda c: literal_eval(c)[\"lng\"])\n",
    "\n",
    "df.head()\n",
    "df.to_csv(\"rezoning_history_with_lat_lng.csv\", header=True)"
   ]
  }
 ],
 "metadata": {
  "kernelspec": {
   "display_name": "Python 3",
   "language": "python",
   "name": "python3"
  },
  "language_info": {
   "codemirror_mode": {
    "name": "ipython",
    "version": 3
   },
   "file_extension": ".py",
   "mimetype": "text/x-python",
   "name": "python",
   "nbconvert_exporter": "python",
   "pygments_lexer": "ipython3",
   "version": "3.7.6"
  }
 },
 "nbformat": 4,
 "nbformat_minor": 4
}
